{
 "cells": [
  {
   "cell_type": "markdown",
   "metadata": {},
   "source": [
    "# Test Chroma Database"
   ]
  },
  {
   "cell_type": "markdown",
   "metadata": {},
   "source": [
    "[Official Website](https://docs.trychroma.com/)  \n",
    "[Chroma Cookbook](https://cookbook.chromadb.dev/)"
   ]
  },
  {
   "cell_type": "code",
   "execution_count": 2,
   "metadata": {},
   "outputs": [],
   "source": [
    "import chromadb\n",
    "import os\n",
    "\n",
    "DB_PATH = \"../../../Database/Example/\""
   ]
  },
  {
   "cell_type": "markdown",
   "metadata": {},
   "source": [
    "## Cloning Collection"
   ]
  },
  {
   "cell_type": "code",
   "execution_count": 2,
   "metadata": {},
   "outputs": [],
   "source": [
    "client = chromadb.PersistentClient(\n",
    "    path=os.path.join(DB_PATH, \"test_cloning\")\n",
    ")  "
   ]
  },
  {
   "cell_type": "code",
   "execution_count": 3,
   "metadata": {},
   "outputs": [],
   "source": [
    "collection = client.get_or_create_collection(\n",
    "    name=\"test_collection\",\n",
    "    metadata={\n",
    "        \"hnsw:space\": \"cosine\",\n",
    "        \"info\": \"This is the collection for testing cloning\"\n",
    "    }\n",
    ")"
   ]
  },
  {
   "cell_type": "code",
   "execution_count": 5,
   "metadata": {},
   "outputs": [],
   "source": [
    "collection.add(\n",
    "    ids=[f\"{i}\" for i in range(10)],\n",
    "    documents=[f\"document_{i}\" for i in range(10)],\n",
    "    metadatas=[{\"info\": f\"metadata_{i}\"} for i in range(10)]\n",
    ")"
   ]
  },
  {
   "cell_type": "code",
   "execution_count": 7,
   "metadata": {},
   "outputs": [],
   "source": [
    "# Creating Collection to clone the data into\n",
    "\n",
    "cloned_collection = client.get_or_create_collection(\n",
    "    name=\"cloned_collection\",\n",
    "    metadata={\n",
    "        \"info\": \"This is the cloned collection from test_collection\"\n",
    "    }\n",
    ")"
   ]
  },
  {
   "cell_type": "code",
   "execution_count": 10,
   "metadata": {},
   "outputs": [
    {
     "data": {
      "text/plain": [
       "(10, 5461)"
      ]
     },
     "execution_count": 10,
     "metadata": {},
     "output_type": "execute_result"
    }
   ],
   "source": [
    "existing_docs = collection.count()\n",
    "existing_docs, client.get_max_batch_size()   # max batch size chroma can handle is 5461"
   ]
  },
  {
   "cell_type": "code",
   "execution_count": 16,
   "metadata": {},
   "outputs": [],
   "source": [
    "batch_size = 20\n",
    "\n",
    "for i in range(0, existing_docs, batch_size):   # start, end, step\n",
    "    batch = collection.get(include=[\"metadatas\", \"documents\", \"embeddings\"], limit=batch_size, offset=i)\n",
    "    cloned_collection.add(\n",
    "        ids=batch[\"ids\"],\n",
    "        documents=batch[\"documents\"],\n",
    "        metadatas=batch[\"metadatas\"],\n",
    "        embeddings=batch[\"embeddings\"]\n",
    "    )"
   ]
  },
  {
   "cell_type": "code",
   "execution_count": 18,
   "metadata": {},
   "outputs": [
    {
     "data": {
      "text/plain": [
       "10"
      ]
     },
     "execution_count": 18,
     "metadata": {},
     "output_type": "execute_result"
    }
   ],
   "source": [
    "cloned_collection.count()"
   ]
  },
  {
   "cell_type": "markdown",
   "metadata": {},
   "source": [
    "To have a another embedding function in cloned collection, you have to to following steps:\n",
    "- Create cloned collection with new embedding function\n",
    "- only get `[\"metadatas\", \"documents\"]` instead of `[\"metadatas\", \"documents\", \"embedding\"]` from original collection\n",
    "- add to cloned collection `ids`, `documents`, `metadatas` from original collection\n",
    "    - embedding will be automatically calculated by new embedding function that was defined during creation of cloned collection"
   ]
  },
  {
   "cell_type": "markdown",
   "metadata": {},
   "source": [
    "## Copying Collection"
   ]
  },
  {
   "cell_type": "markdown",
   "metadata": {},
   "source": [
    "Copy a collection from a databse to another database."
   ]
  },
  {
   "cell_type": "code",
   "execution_count": 3,
   "metadata": {},
   "outputs": [],
   "source": [
    "client_1 = chromadb.PersistentClient(\n",
    "    path=os.path.join(DB_PATH, \"test_copying\", \"1\")\n",
    ")  \n",
    "\n",
    "client_2 = chromadb.PersistentClient(\n",
    "    path=os.path.join(DB_PATH, \"test_copying\", \"2\")\n",
    ")  "
   ]
  },
  {
   "cell_type": "code",
   "execution_count": 4,
   "metadata": {},
   "outputs": [],
   "source": [
    "collection = client_1.get_or_create_collection(\n",
    "    name=\"test_collection\",\n",
    "    metadata={\n",
    "        \"hnsw:space\": \"cosine\",\n",
    "        \"info\": \"This is the collection for testing copying\"\n",
    "    }\n",
    ")"
   ]
  },
  {
   "cell_type": "code",
   "execution_count": 5,
   "metadata": {},
   "outputs": [
    {
     "data": {
      "text/plain": [
       "10"
      ]
     },
     "execution_count": 5,
     "metadata": {},
     "output_type": "execute_result"
    }
   ],
   "source": [
    "collection.add(\n",
    "    ids=[f\"{i}\" for i in range(10)],\n",
    "    documents=[f\"document_{i}\" for i in range(10)],\n",
    "    metadatas=[{\"info\": f\"metadata_{i}\"} for i in range(10)]\n",
    ")\n",
    "\n",
    "collection.count()"
   ]
  },
  {
   "cell_type": "code",
   "execution_count": 6,
   "metadata": {},
   "outputs": [],
   "source": [
    "copied_collection = client_2.get_or_create_collection(\n",
    "    \"copied_collection\",\n",
    "    metadata=collection.metadata\n",
    ")"
   ]
  },
  {
   "cell_type": "code",
   "execution_count": 8,
   "metadata": {},
   "outputs": [
    {
     "data": {
      "text/plain": [
       "(10, 5461)"
      ]
     },
     "execution_count": 8,
     "metadata": {},
     "output_type": "execute_result"
    }
   ],
   "source": [
    "existing_docs = collection.count()\n",
    "existing_docs, client_1.get_max_batch_size()   # max batch size chroma can handle is 5461"
   ]
  },
  {
   "cell_type": "code",
   "execution_count": 9,
   "metadata": {},
   "outputs": [],
   "source": [
    "batch_size = 20\n",
    "\n",
    "for i in range(0, existing_docs, batch_size):   # start, end, step\n",
    "    batch = collection.get(\n",
    "        include=[\"metadatas\", \"documents\", \"embeddings\"], \n",
    "        limit=batch_size, \n",
    "        offset=i\n",
    "    )\n",
    "    copied_collection.add(\n",
    "        ids=batch[\"ids\"],\n",
    "        documents=batch[\"documents\"],\n",
    "        metadatas=batch[\"metadatas\"],\n",
    "        embeddings=batch[\"embeddings\"]\n",
    "    )"
   ]
  },
  {
   "cell_type": "code",
   "execution_count": 10,
   "metadata": {},
   "outputs": [
    {
     "data": {
      "text/plain": [
       "10"
      ]
     },
     "execution_count": 10,
     "metadata": {},
     "output_type": "execute_result"
    }
   ],
   "source": [
    "copied_collection.count()"
   ]
  },
  {
   "cell_type": "markdown",
   "metadata": {},
   "source": [
    "To have a another embedding function in copied collection, you have to to following steps:\n",
    "- Create copied collection with new embedding function\n",
    "- only get `[\"metadatas\", \"documents\"]` instead of `[\"metadatas\", \"documents\", \"embedding\"]` from original collection\n",
    "- add to cloned collection `ids`, `documents`, `metadatas` from original collection\n",
    "    - embedding will be automatically calculated by new embedding function that was defined during creation of copied collection"
   ]
  }
 ],
 "metadata": {
  "kernelspec": {
   "display_name": "Project-KdxDjv4v",
   "language": "python",
   "name": "python3"
  },
  "language_info": {
   "codemirror_mode": {
    "name": "ipython",
    "version": 3
   },
   "file_extension": ".py",
   "mimetype": "text/x-python",
   "name": "python",
   "nbconvert_exporter": "python",
   "pygments_lexer": "ipython3",
   "version": "3.11.1"
  }
 },
 "nbformat": 4,
 "nbformat_minor": 2
}
