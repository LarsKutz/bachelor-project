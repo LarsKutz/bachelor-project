{
 "cells": [
  {
   "cell_type": "markdown",
   "metadata": {},
   "source": [
    "# Loading File with Unststructed.io"
   ]
  },
  {
   "cell_type": "markdown",
   "metadata": {},
   "source": [
    "This Tool is able to load a lot of different file formats (see [here](https://docs.unstructured.io/open-source/core-functionality/partitioning)). "
   ]
  },
  {
   "cell_type": "code",
   "execution_count": 31,
   "metadata": {},
   "outputs": [],
   "source": [
    "import os\n",
    "import pathlib\n",
    "from pathlib import Path\n",
    "from dotenv import load_dotenv, find_dotenv\n",
    "\n",
    "load_dotenv(find_dotenv())\n",
    "\n",
    "DATA_PATH = os.getenv(\"DATA_PATH\")\n",
    "POPPLER_PATH = os.getenv(\"POPPLER_PATH\")\n",
    "TESSERACT_PATH = os.getenv(\"TESSERACT_PATH\")"
   ]
  },
  {
   "cell_type": "code",
   "execution_count": 32,
   "metadata": {},
   "outputs": [],
   "source": [
    "def get_path(name: str) -> pathlib.WindowsPath:\n",
    "    \"\"\" Create a path object for a file in the data directory\n",
    "\n",
    "    Args:\n",
    "        name (str): File name or directory name to search for\n",
    "\n",
    "    Returns:\n",
    "        pathlib.WindowsPath: Path object for the file or directory\n",
    "    \"\"\"\n",
    "    return next(Path(DATA_PATH).rglob(name))"
   ]
  },
  {
   "cell_type": "markdown",
   "metadata": {},
   "source": [
    "## All-in-One Loader"
   ]
  },
  {
   "cell_type": "markdown",
   "metadata": {},
   "source": [
    "- **Pros**:\n",
    "    - not necessary to know the file format\n",
    "    - easy to use\n",
    "- **Cons**:\n",
    "    - not as fast as a specialized loader\n",
    "    - not as flexible as a specialized loader\n",
    "    - more dependencies"
   ]
  },
  {
   "cell_type": "code",
   "execution_count": 33,
   "metadata": {},
   "outputs": [],
   "source": [
    "from unstructured.partition.auto import partition\n",
    "\n",
    "file_name = \"ark_021_-_geschaeftsordnung_des_beirats.pdf\"\n",
    "path = get_path(file_name)\n",
    "\n",
    "ele = partition(\n",
    "        str(path), \n",
    "        strategy=\"hi_res\",\n",
    "        languages=[\"deu\"],\n",
    "    )"
   ]
  },
  {
   "cell_type": "code",
   "execution_count": 34,
   "metadata": {},
   "outputs": [
    {
     "data": {
      "text/plain": [
       "[<unstructured.documents.elements.Header at 0x220d4195390>,\n",
       " <unstructured.documents.elements.Title at 0x220d43a1050>,\n",
       " <unstructured.documents.elements.Text at 0x220b707ca50>,\n",
       " <unstructured.documents.elements.Title at 0x220d41771d0>,\n",
       " <unstructured.documents.elements.NarrativeText at 0x220d417e0d0>]"
      ]
     },
     "execution_count": 34,
     "metadata": {},
     "output_type": "execute_result"
    }
   ],
   "source": [
    "ele[:5]"
   ]
  },
  {
   "cell_type": "markdown",
   "metadata": {},
   "source": [
    "## PDF Loader"
   ]
  },
  {
   "cell_type": "code",
   "execution_count": 35,
   "metadata": {},
   "outputs": [],
   "source": [
    "from unstructured.partition.pdf import partition_pdf\n",
    "\n",
    "file_name = \"ark_021_-_geschaeftsordnung_des_beirats.pdf\"\n",
    "path = get_path(file_name)\n",
    "\n",
    "ele = partition_pdf(\n",
    "        str(path), \n",
    "        strategy=\"hi_res\",\n",
    "        languages=[\"deu\"],\n",
    "    )"
   ]
  },
  {
   "cell_type": "code",
   "execution_count": 36,
   "metadata": {},
   "outputs": [
    {
     "data": {
      "text/plain": [
       "[<unstructured.documents.elements.Header at 0x220d4176b90>,\n",
       " <unstructured.documents.elements.Title at 0x220d4176a90>,\n",
       " <unstructured.documents.elements.Text at 0x220d2a1ed50>,\n",
       " <unstructured.documents.elements.Title at 0x220b7052710>,\n",
       " <unstructured.documents.elements.NarrativeText at 0x220d424b490>]"
      ]
     },
     "execution_count": 36,
     "metadata": {},
     "output_type": "execute_result"
    }
   ],
   "source": [
    "ele[:5]"
   ]
  },
  {
   "cell_type": "markdown",
   "metadata": {},
   "source": [
    "## DOCX Loader"
   ]
  },
  {
   "cell_type": "code",
   "execution_count": 37,
   "metadata": {},
   "outputs": [],
   "source": [
    "from unstructured.partition.docx import partition_docx\n",
    "\n",
    "file_name = \"aktive_leistungen_bei_darlehensweiser_passiver_leistungsgewaehrung.docx\"\n",
    "path = get_path(file_name)\n",
    "\n",
    "ele = partition_docx(\n",
    "        str(path), \n",
    "        strategy=\"hi_res\",\n",
    "        languages=[\"deu\"],\n",
    "    )"
   ]
  },
  {
   "cell_type": "code",
   "execution_count": 38,
   "metadata": {},
   "outputs": [
    {
     "data": {
      "text/plain": [
       "[<unstructured.documents.elements.Title at 0x220b3d71f50>,\n",
       " <unstructured.documents.elements.Title at 0x220d443f590>,\n",
       " <unstructured.documents.elements.NarrativeText at 0x220d43a3810>,\n",
       " <unstructured.documents.elements.NarrativeText at 0x220d4178210>,\n",
       " <unstructured.documents.elements.NarrativeText at 0x220d432ba50>]"
      ]
     },
     "execution_count": 38,
     "metadata": {},
     "output_type": "execute_result"
    }
   ],
   "source": [
    "ele[:5]"
   ]
  },
  {
   "cell_type": "markdown",
   "metadata": {},
   "source": [
    "## DOC Loader"
   ]
  },
  {
   "cell_type": "markdown",
   "metadata": {},
   "source": [
    "Uses [libreoffice](https://www.libreoffice.org/) to convert the file to a docx file and then uses the docx loader. So you have to have libreoffice installed on your system.\n",
    "\n",
    "- **Installation**:\n",
    "    - install libreoffice\n",
    "    - add the path to the `soffice.exe` (`../program`) executable to your system path\n",
    "    - restart your pc"
   ]
  },
  {
   "cell_type": "code",
   "execution_count": 39,
   "metadata": {},
   "outputs": [],
   "source": [
    "from unstructured.partition.doc import partition_doc\n",
    "\n",
    "file_name = \"54_SGB_I_Pfaendung_20130402.999.doc\"\n",
    "path = get_path(file_name)\n",
    "\n",
    "ele = partition_doc(\n",
    "        str(path), \n",
    "        strategy=\"hi_res\",\n",
    "        languages=[\"deu\"],\n",
    "    )"
   ]
  },
  {
   "cell_type": "code",
   "execution_count": 40,
   "metadata": {},
   "outputs": [
    {
     "data": {
      "text/plain": [
       "[<unstructured.documents.elements.Header at 0x220d418fb10>,\n",
       " <unstructured.documents.elements.Title at 0x220d41848d0>,\n",
       " <unstructured.documents.elements.NarrativeText at 0x220d43f34d0>,\n",
       " <unstructured.documents.elements.NarrativeText at 0x220d448d510>,\n",
       " <unstructured.documents.elements.NarrativeText at 0x220d421e110>]"
      ]
     },
     "execution_count": 40,
     "metadata": {},
     "output_type": "execute_result"
    }
   ],
   "source": [
    "ele[:5]"
   ]
  }
 ],
 "metadata": {
  "kernelspec": {
   "display_name": "Project-KdxDjv4v",
   "language": "python",
   "name": "python3"
  },
  "language_info": {
   "codemirror_mode": {
    "name": "ipython",
    "version": 3
   },
   "file_extension": ".py",
   "mimetype": "text/x-python",
   "name": "python",
   "nbconvert_exporter": "python",
   "pygments_lexer": "ipython3",
   "version": "3.11.1"
  }
 },
 "nbformat": 4,
 "nbformat_minor": 2
}
