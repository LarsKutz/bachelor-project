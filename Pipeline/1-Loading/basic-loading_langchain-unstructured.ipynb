{
 "cells": [
  {
   "cell_type": "markdown",
   "metadata": {},
   "source": [
    "# Loading File with LangChain and Unstructured"
   ]
  },
  {
   "cell_type": "markdown",
   "metadata": {},
   "source": [
    "The LangChain Methods are using intern the open-source unstructued partition-methods.  \n",
    "\n",
    "**So its possible to use the same paramter from the Unstructured Methods in the LangChain Methods!**\n",
    "\n",
    "Watch [this notebook](./basic_loading_unstructured.ipynb) for trying out the Unstructured Methods."
   ]
  },
  {
   "cell_type": "code",
   "execution_count": 34,
   "metadata": {},
   "outputs": [],
   "source": [
    "import os\n",
    "import pathlib\n",
    "from pathlib import Path\n",
    "from langchain_community.document_loaders import UnstructuredPDFLoader, UnstructuredWordDocumentLoader\n",
    "from dotenv import load_dotenv, find_dotenv\n",
    "\n",
    "load_dotenv(find_dotenv())\n",
    "\n",
    "DATA_PATH = os.getenv(\"DATA_PATH\")\n",
    "POPPLER_PATH = os.getenv(\"POPPLER_PATH\")\n",
    "TESSERACT_PATH = os.getenv(\"TESSERACT_PATH\")"
   ]
  },
  {
   "cell_type": "code",
   "execution_count": 35,
   "metadata": {},
   "outputs": [],
   "source": [
    "def get_path(name: str) -> pathlib.WindowsPath:\n",
    "    \"\"\" Create a path object for a file in the data directory\n",
    "\n",
    "    Args:\n",
    "        name (str): File name or directory name to search for\n",
    "\n",
    "    Returns:\n",
    "        pathlib.WindowsPath: Path object for the file or directory\n",
    "    \"\"\"\n",
    "    return next(Path(DATA_PATH).rglob(name))"
   ]
  },
  {
   "cell_type": "markdown",
   "metadata": {},
   "source": [
    "## PDF Loader"
   ]
  },
  {
   "cell_type": "code",
   "execution_count": 36,
   "metadata": {},
   "outputs": [],
   "source": [
    "file_name = \"ark_021_-_geschaeftsordnung_des_beirats.pdf\"\n",
    "path = get_path(file_name)\n",
    "\n",
    "# Possible to use same parameters like the unstructured methods from the official website\n",
    "docs = UnstructuredPDFLoader(\n",
    "        file_path=str(path),\n",
    "        mode=\"elements\",        # single=one langchain document-object, elements=like unstructured-elements\n",
    "        strategy=\"hi_res\",\n",
    "        languages=[\"deu\"],\n",
    "    ).load()"
   ]
  },
  {
   "cell_type": "code",
   "execution_count": 37,
   "metadata": {},
   "outputs": [],
   "source": [
    "# docs"
   ]
  },
  {
   "cell_type": "markdown",
   "metadata": {},
   "source": [
    "## DOCX, DOC Loader"
   ]
  },
  {
   "cell_type": "markdown",
   "metadata": {},
   "source": [
    "The `UnstructuredWordDocumentLoader` is detecting intern the file type and then using unstructed methods to load the file."
   ]
  },
  {
   "cell_type": "code",
   "execution_count": 38,
   "metadata": {},
   "outputs": [],
   "source": [
    "file_name_docx = \"aktive_leistungen_bei_darlehensweiser_passiver_leistungsgewaehrung.docx\"\n",
    "path_docx = get_path(file_name_docx)\n",
    "\n",
    "file_name_doc = \"54_SGB_I_Pfaendung_20130402.999.doc\"\n",
    "path_doc = get_path(file_name_doc)\n",
    "\n",
    "# Possible to use same parameters like the unstructured methods from the official website\n",
    "docs_docx = UnstructuredWordDocumentLoader(\n",
    "        file_path=str(path_docx),\n",
    "        mode=\"elements\",\n",
    "        languages=[\"deu\"],\n",
    "        strategy=\"hi_res\",\n",
    "    ).load()\n",
    "\n",
    "# Possible to use same parameters like the unstructured methods from the official website\n",
    "docs_doc = UnstructuredWordDocumentLoader(\n",
    "        file_path=str(path_doc),\n",
    "        mode=\"elements\",\n",
    "        languages=[\"deu\"],\n",
    "        strategy=\"hi_res\",\n",
    "    ).load()"
   ]
  },
  {
   "cell_type": "code",
   "execution_count": 39,
   "metadata": {},
   "outputs": [],
   "source": [
    "# docs_docx"
   ]
  },
  {
   "cell_type": "code",
   "execution_count": 40,
   "metadata": {},
   "outputs": [],
   "source": [
    "# docs_doc"
   ]
  }
 ],
 "metadata": {
  "kernelspec": {
   "display_name": "Project-KdxDjv4v",
   "language": "python",
   "name": "python3"
  },
  "language_info": {
   "codemirror_mode": {
    "name": "ipython",
    "version": 3
   },
   "file_extension": ".py",
   "mimetype": "text/x-python",
   "name": "python",
   "nbconvert_exporter": "python",
   "pygments_lexer": "ipython3",
   "version": "3.11.1"
  }
 },
 "nbformat": 4,
 "nbformat_minor": 2
}
