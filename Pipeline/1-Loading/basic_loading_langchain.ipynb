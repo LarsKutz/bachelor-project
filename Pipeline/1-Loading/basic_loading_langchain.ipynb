{
 "cells": [
  {
   "cell_type": "markdown",
   "metadata": {},
   "source": [
    "# Loading Files with LangChain"
   ]
  },
  {
   "cell_type": "markdown",
   "metadata": {},
   "source": [
    "LangChain is not able to load simple `.doc`-files. So we have to concentrate first on `.pdf` and `.docx` files. We assume that the files have no images or tables in them.\n"
   ]
  },
  {
   "cell_type": "code",
   "execution_count": 19,
   "metadata": {},
   "outputs": [],
   "source": [
    "import os\n",
    "import pathlib\n",
    "from pathlib import Path\n",
    "from langchain_community.document_loaders import PyPDFLoader, PyPDFDirectoryLoader, Docx2txtLoader\n",
    "from dotenv import load_dotenv, find_dotenv\n",
    "\n",
    "load_dotenv(find_dotenv())\n",
    "\n",
    "DATA_PATH = os.getenv(\"DATA_PATH\")"
   ]
  },
  {
   "cell_type": "code",
   "execution_count": 20,
   "metadata": {},
   "outputs": [],
   "source": [
    "def get_path(name: str) -> pathlib.WindowsPath:\n",
    "    \"\"\" Create a path object for a file in the data directory\n",
    "\n",
    "    Args:\n",
    "        name (str): File name or directory name to search for\n",
    "\n",
    "    Returns:\n",
    "        pathlib.WindowsPath: Path object for the file or directory\n",
    "    \"\"\"\n",
    "    return next(Path(DATA_PATH).rglob(name))"
   ]
  },
  {
   "cell_type": "markdown",
   "metadata": {},
   "source": [
    "## PDF Loader"
   ]
  },
  {
   "cell_type": "markdown",
   "metadata": {},
   "source": [
    "LangChain has two simple methods to load `.pdf`-files. It can directly load one single pdf-file or or it can load every pdf-file in a directory."
   ]
  },
  {
   "cell_type": "markdown",
   "metadata": {},
   "source": [
    "### Single File"
   ]
  },
  {
   "cell_type": "code",
   "execution_count": 21,
   "metadata": {},
   "outputs": [],
   "source": [
    "file_name = \"ark_021_-_geschaeftsordnung_des_beirats.pdf\"\n",
    "path = get_path(file_name)\n",
    "\n",
    "docs = PyPDFLoader(path).load()"
   ]
  },
  {
   "cell_type": "code",
   "execution_count": 22,
   "metadata": {},
   "outputs": [],
   "source": [
    "# docs"
   ]
  },
  {
   "cell_type": "markdown",
   "metadata": {},
   "source": [
    "### Directory"
   ]
  },
  {
   "cell_type": "code",
   "execution_count": 23,
   "metadata": {},
   "outputs": [],
   "source": [
    "dir_name = \"sgb_i\"\n",
    "path = get_path(dir_name)\n",
    "\n",
    "docs = PyPDFDirectoryLoader(path).load()"
   ]
  },
  {
   "cell_type": "code",
   "execution_count": 24,
   "metadata": {},
   "outputs": [],
   "source": [
    "# docs"
   ]
  },
  {
   "cell_type": "markdown",
   "metadata": {},
   "source": [
    "## DOCX Loader"
   ]
  },
  {
   "cell_type": "markdown",
   "metadata": {},
   "source": [
    "Returning only one single `document`-object and not like the pdf-method a list of `document`-objects. This loader does not extracting the page number."
   ]
  },
  {
   "cell_type": "code",
   "execution_count": 25,
   "metadata": {},
   "outputs": [],
   "source": [
    "file_name = \"aktive_leistungen_bei_darlehensweiser_passiver_leistungsgewaehrung.docx\"\n",
    "\n",
    "path = get_path(file_name)\n",
    "docs = Docx2txtLoader(path).load()"
   ]
  },
  {
   "cell_type": "code",
   "execution_count": 26,
   "metadata": {},
   "outputs": [],
   "source": [
    "# docs"
   ]
  }
 ],
 "metadata": {
  "kernelspec": {
   "display_name": "Project-KdxDjv4v",
   "language": "python",
   "name": "python3"
  },
  "language_info": {
   "codemirror_mode": {
    "name": "ipython",
    "version": 3
   },
   "file_extension": ".py",
   "mimetype": "text/x-python",
   "name": "python",
   "nbconvert_exporter": "python",
   "pygments_lexer": "ipython3",
   "version": "3.11.1"
  }
 },
 "nbformat": 4,
 "nbformat_minor": 2
}
