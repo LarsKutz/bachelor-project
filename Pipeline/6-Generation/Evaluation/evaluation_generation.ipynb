{
 "cells": [
  {
   "cell_type": "markdown",
   "metadata": {},
   "source": [
    "# Evaluation"
   ]
  },
  {
   "cell_type": "code",
   "execution_count": null,
   "metadata": {},
   "outputs": [],
   "source": [
    "import json\n",
    "from utils import *\n",
    "from generation import Generation"
   ]
  },
  {
   "cell_type": "code",
   "execution_count": 2,
   "metadata": {},
   "outputs": [],
   "source": [
    "questions = json.load(open(\"../../../Source/Questions/questions_seed_2.json\", encoding=\"utf-8\"))"
   ]
  },
  {
   "cell_type": "markdown",
   "metadata": {},
   "source": [
    "**What are we using?** \n",
    " - base retriever  without reranking   - basic chunking - **DNB**\n",
    " - base retriever  without reranking   - title chunking - **DNT**\n",
    " - base retriever  with cohere         - title chunking - **DCT**\n",
    " - mq retriever    without reranking   - basic chunking - **MQNB**\n",
    " - mq retriever    without reranking   - title chunking - **MQNT**\n",
    " - mq retriever    with cohere         - title chunking - **MQCT**\n",
    "\n",
    "Based on Evaluation in [5-Reranking](D:\\Studium\\Informatik\\Module\\Bachelorarbeit\\Project\\Pipeline\\5-Reranken\\Evaluation\\evaluation_visual.ipynb)\n",
    "\n",
    "**Questions (From Seed 2):**\n",
    "- Question 3\n",
    "- Question 4\n",
    "- Question 7\n",
    "- Question 13\n",
    "- Question 17\n",
    "- Question 21\n",
    "- Question 25"
   ]
  },
  {
   "cell_type": "code",
   "execution_count": 30,
   "metadata": {},
   "outputs": [],
   "source": [
    "q_ids = [2, 3, 6, 12, 16, 20, 24]\n",
    "\n",
    "n_retriever_alone, n_retriever_with_reranker = 5, 40\n",
    "n_reranker = 5\n",
    "\n",
    "generator = Generation(\n",
    "    n_retriever=n_retriever_with_reranker,\n",
    "    n_reranker=n_reranker,\n",
    "    chunking_type=ChunkingType.TITLE,\n",
    ")"
   ]
  },
  {
   "cell_type": "code",
   "execution_count": null,
   "metadata": {},
   "outputs": [],
   "source": [
    "q = questions[q_ids[6]][\"question\"]\n",
    "q"
   ]
  },
  {
   "cell_type": "code",
   "execution_count": 72,
   "metadata": {},
   "outputs": [],
   "source": [
    "ans = generator.generate(\n",
    "    query=q,\n",
    "    retriever_type=RetrieverType.MULTIQUERY,\n",
    "    reranker_type=RerankerType.COHERE,\n",
    "    append_context_to_llm_response=True,\n",
    ")"
   ]
  },
  {
   "cell_type": "code",
   "execution_count": null,
   "metadata": {},
   "outputs": [],
   "source": [
    "print(PrettyOutput().output_per_line(ans, 15))"
   ]
  }
 ],
 "metadata": {
  "kernelspec": {
   "display_name": "Project-KdxDjv4v",
   "language": "python",
   "name": "python3"
  },
  "language_info": {
   "codemirror_mode": {
    "name": "ipython",
    "version": 3
   },
   "file_extension": ".py",
   "mimetype": "text/x-python",
   "name": "python",
   "nbconvert_exporter": "python",
   "pygments_lexer": "ipython3",
   "version": "3.11.1"
  }
 },
 "nbformat": 4,
 "nbformat_minor": 2
}
