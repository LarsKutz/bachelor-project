{
 "cells": [
  {
   "cell_type": "code",
   "execution_count": 1,
   "metadata": {},
   "outputs": [],
   "source": [
    "import pandas as pd\n",
    "import json\n",
    "import os\n",
    "from collections import defaultdict"
   ]
  },
  {
   "cell_type": "code",
   "execution_count": 2,
   "metadata": {},
   "outputs": [],
   "source": [
    "metrics = [\"ndcg@3\", \"ndcg@5\", \"mrr@3\", \"mrr@5\", \"map@3\", \"map@5\"]\n",
    "model_names = [\"base\", \"cohere\", \"flashrank\"]\n",
    "paths_seed_1 = [\n",
    "    \"Data/json/seed_1/base_basic/q_all_report_base_basic.json\",\n",
    "    \"Data/json/seed_1/base_by_title/q_all_report_base_by_title.json\",\n",
    "    \"Data/json/seed_1/multiquery_basic/q_all_report_multiquery_basic.json\",\n",
    "    \"Data/json/seed_1/multiquery_by_title/q_all_report_multiquery_by_title.json\",\n",
    "]\n",
    "paths_seed_2 = [\n",
    "    \"Data/json/seed_2/base_basic/q_all_report_base_basic.json\",\n",
    "    \"Data/json/seed_2/base_by_title/q_all_report_base_by_title.json\",\n",
    "    \"Data/json/seed_2/multiquery_basic/q_all_report_multiquery_basic.json\",\n",
    "    \"Data/json/seed_2/multiquery_by_title/q_all_report_multiquery_by_title.json\",\n",
    "]\n",
    "\n",
    "n = 40\n",
    "seed_1_len, seed_2_len = 5, 25\n",
    "\n",
    "\n",
    "def calculate_weighted_average(avg_1: float | int, avg_2: float | int, n_1: int=seed_1_len, n_2: int=seed_2_len, round_to: int=None):\n",
    "    if not round_to:\n",
    "        return ((avg_1*n_1)+(avg_2*n_2))/(n_1+n_2)\n",
    "    return round(((avg_1*n_1)+(avg_2*n_2))/(n_1+n_2), round_to)"
   ]
  },
  {
   "cell_type": "code",
   "execution_count": 3,
   "metadata": {},
   "outputs": [],
   "source": [
    "dict_seed_1 = []\n",
    "dfs_seed1 = []\n",
    "for path in paths_seed_1:\n",
    "    with open(path, \"r\") as f:\n",
    "        data = json.load(f)\n",
    "    dic = {k: [[s for _, s in score.items()] for _, score in v.items()][0] for k, v in data.items() if k in model_names}\n",
    "    dict_seed_1.append(dic)\n",
    "    df = pd.DataFrame(dic, index=metrics).T\n",
    "    df = df.style.highlight_max(color=\"darkgreen\", axis=0).highlight_min(color=\"darkred\", axis=0)\n",
    "    df = df.set_caption(os.path.basename(path))\n",
    "    df = df.format(\"{:.3f}\")\n",
    "    dfs_seed1.append(df)\n",
    "\n",
    "\n",
    "dict_seed_2 = []\n",
    "dfs_seed2 = []\n",
    "for path in paths_seed_2:\n",
    "    with open(path, \"r\") as f:\n",
    "        data = json.load(f)\n",
    "    dic = {k: [[s for _, s in score.items()] for _, score in v.items()][0] for k, v in data.items() if k in model_names}\n",
    "    dict_seed_2.append(dic)\n",
    "    df = pd.DataFrame(dic, index=metrics).T\n",
    "    df = df.style.highlight_max(color=\"darkgreen\", axis=0).highlight_min(color=\"darkred\", axis=0)\n",
    "    df = df.set_caption(os.path.basename(path))\n",
    "    df = df.format(\"{:.3f}\")\n",
    "    dfs_seed2.append(df)"
   ]
  },
  {
   "cell_type": "code",
   "execution_count": 4,
   "metadata": {},
   "outputs": [
    {
     "data": {
      "text/html": [
       "<style type=\"text/css\">\n",
       "#T_de6f8_row1_col0, #T_de6f8_row1_col1, #T_de6f8_row1_col2, #T_de6f8_row1_col3, #T_de6f8_row1_col4, #T_de6f8_row1_col5 {\n",
       "  background-color: darkgreen;\n",
       "}\n",
       "#T_de6f8_row2_col0, #T_de6f8_row2_col1, #T_de6f8_row2_col2, #T_de6f8_row2_col3, #T_de6f8_row2_col4, #T_de6f8_row2_col5 {\n",
       "  background-color: darkred;\n",
       "}\n",
       "</style>\n",
       "<table id=\"T_de6f8\">\n",
       "  <caption>q_all_report_base_by_title.json</caption>\n",
       "  <thead>\n",
       "    <tr>\n",
       "      <th class=\"blank level0\" >&nbsp;</th>\n",
       "      <th id=\"T_de6f8_level0_col0\" class=\"col_heading level0 col0\" >ndcg@3</th>\n",
       "      <th id=\"T_de6f8_level0_col1\" class=\"col_heading level0 col1\" >ndcg@5</th>\n",
       "      <th id=\"T_de6f8_level0_col2\" class=\"col_heading level0 col2\" >mrr@3</th>\n",
       "      <th id=\"T_de6f8_level0_col3\" class=\"col_heading level0 col3\" >mrr@5</th>\n",
       "      <th id=\"T_de6f8_level0_col4\" class=\"col_heading level0 col4\" >map@3</th>\n",
       "      <th id=\"T_de6f8_level0_col5\" class=\"col_heading level0 col5\" >map@5</th>\n",
       "    </tr>\n",
       "  </thead>\n",
       "  <tbody>\n",
       "    <tr>\n",
       "      <th id=\"T_de6f8_level0_row0\" class=\"row_heading level0 row0\" >base</th>\n",
       "      <td id=\"T_de6f8_row0_col0\" class=\"data row0 col0\" >0.635</td>\n",
       "      <td id=\"T_de6f8_row0_col1\" class=\"data row0 col1\" >0.586</td>\n",
       "      <td id=\"T_de6f8_row0_col2\" class=\"data row0 col2\" >0.733</td>\n",
       "      <td id=\"T_de6f8_row0_col3\" class=\"data row0 col3\" >0.733</td>\n",
       "      <td id=\"T_de6f8_row0_col4\" class=\"data row0 col4\" >0.459</td>\n",
       "      <td id=\"T_de6f8_row0_col5\" class=\"data row0 col5\" >0.484</td>\n",
       "    </tr>\n",
       "    <tr>\n",
       "      <th id=\"T_de6f8_level0_row1\" class=\"row_heading level0 row1\" >cohere</th>\n",
       "      <td id=\"T_de6f8_row1_col0\" class=\"data row1 col0\" >0.782</td>\n",
       "      <td id=\"T_de6f8_row1_col1\" class=\"data row1 col1\" >0.798</td>\n",
       "      <td id=\"T_de6f8_row1_col2\" class=\"data row1 col2\" >0.800</td>\n",
       "      <td id=\"T_de6f8_row1_col3\" class=\"data row1 col3\" >0.800</td>\n",
       "      <td id=\"T_de6f8_row1_col4\" class=\"data row1 col4\" >0.539</td>\n",
       "      <td id=\"T_de6f8_row1_col5\" class=\"data row1 col5\" >0.699</td>\n",
       "    </tr>\n",
       "    <tr>\n",
       "      <th id=\"T_de6f8_level0_row2\" class=\"row_heading level0 row2\" >flashrank</th>\n",
       "      <td id=\"T_de6f8_row2_col0\" class=\"data row2 col0\" >0.200</td>\n",
       "      <td id=\"T_de6f8_row2_col1\" class=\"data row2 col1\" >0.251</td>\n",
       "      <td id=\"T_de6f8_row2_col2\" class=\"data row2 col2\" >0.500</td>\n",
       "      <td id=\"T_de6f8_row2_col3\" class=\"data row2 col3\" >0.500</td>\n",
       "      <td id=\"T_de6f8_row2_col4\" class=\"data row2 col4\" >0.142</td>\n",
       "      <td id=\"T_de6f8_row2_col5\" class=\"data row2 col5\" >0.188</td>\n",
       "    </tr>\n",
       "  </tbody>\n",
       "</table>\n"
      ],
      "text/plain": [
       "<pandas.io.formats.style.Styler at 0x1b387f88810>"
      ]
     },
     "execution_count": 4,
     "metadata": {},
     "output_type": "execute_result"
    }
   ],
   "source": [
    "dfs_seed1[1]"
   ]
  },
  {
   "cell_type": "code",
   "execution_count": 5,
   "metadata": {},
   "outputs": [
    {
     "data": {
      "text/html": [
       "<style type=\"text/css\">\n",
       "#T_a52f2_row0_col0, #T_a52f2_row0_col1, #T_a52f2_row0_col2, #T_a52f2_row0_col3, #T_a52f2_row0_col4, #T_a52f2_row0_col5 {\n",
       "  background-color: darkgreen;\n",
       "}\n",
       "#T_a52f2_row2_col0, #T_a52f2_row2_col1, #T_a52f2_row2_col2, #T_a52f2_row2_col3, #T_a52f2_row2_col4, #T_a52f2_row2_col5 {\n",
       "  background-color: darkred;\n",
       "}\n",
       "</style>\n",
       "<table id=\"T_a52f2\">\n",
       "  <caption>q_all_report_base_by_title.json</caption>\n",
       "  <thead>\n",
       "    <tr>\n",
       "      <th class=\"blank level0\" >&nbsp;</th>\n",
       "      <th id=\"T_a52f2_level0_col0\" class=\"col_heading level0 col0\" >ndcg@3</th>\n",
       "      <th id=\"T_a52f2_level0_col1\" class=\"col_heading level0 col1\" >ndcg@5</th>\n",
       "      <th id=\"T_a52f2_level0_col2\" class=\"col_heading level0 col2\" >mrr@3</th>\n",
       "      <th id=\"T_a52f2_level0_col3\" class=\"col_heading level0 col3\" >mrr@5</th>\n",
       "      <th id=\"T_a52f2_level0_col4\" class=\"col_heading level0 col4\" >map@3</th>\n",
       "      <th id=\"T_a52f2_level0_col5\" class=\"col_heading level0 col5\" >map@5</th>\n",
       "    </tr>\n",
       "  </thead>\n",
       "  <tbody>\n",
       "    <tr>\n",
       "      <th id=\"T_a52f2_level0_row0\" class=\"row_heading level0 row0\" >base</th>\n",
       "      <td id=\"T_a52f2_row0_col0\" class=\"data row0 col0\" >0.764</td>\n",
       "      <td id=\"T_a52f2_row0_col1\" class=\"data row0 col1\" >0.791</td>\n",
       "      <td id=\"T_a52f2_row0_col2\" class=\"data row0 col2\" >0.820</td>\n",
       "      <td id=\"T_a52f2_row0_col3\" class=\"data row0 col3\" >0.828</td>\n",
       "      <td id=\"T_a52f2_row0_col4\" class=\"data row0 col4\" >0.683</td>\n",
       "      <td id=\"T_a52f2_row0_col5\" class=\"data row0 col5\" >0.730</td>\n",
       "    </tr>\n",
       "    <tr>\n",
       "      <th id=\"T_a52f2_level0_row1\" class=\"row_heading level0 row1\" >cohere</th>\n",
       "      <td id=\"T_a52f2_row1_col0\" class=\"data row1 col0\" >0.642</td>\n",
       "      <td id=\"T_a52f2_row1_col1\" class=\"data row1 col1\" >0.724</td>\n",
       "      <td id=\"T_a52f2_row1_col2\" class=\"data row1 col2\" >0.700</td>\n",
       "      <td id=\"T_a52f2_row1_col3\" class=\"data row1 col3\" >0.728</td>\n",
       "      <td id=\"T_a52f2_row1_col4\" class=\"data row1 col4\" >0.577</td>\n",
       "      <td id=\"T_a52f2_row1_col5\" class=\"data row1 col5\" >0.645</td>\n",
       "    </tr>\n",
       "    <tr>\n",
       "      <th id=\"T_a52f2_level0_row2\" class=\"row_heading level0 row2\" >flashrank</th>\n",
       "      <td id=\"T_a52f2_row2_col0\" class=\"data row2 col0\" >0.091</td>\n",
       "      <td id=\"T_a52f2_row2_col1\" class=\"data row2 col1\" >0.100</td>\n",
       "      <td id=\"T_a52f2_row2_col2\" class=\"data row2 col2\" >0.087</td>\n",
       "      <td id=\"T_a52f2_row2_col3\" class=\"data row2 col3\" >0.095</td>\n",
       "      <td id=\"T_a52f2_row2_col4\" class=\"data row2 col4\" >0.061</td>\n",
       "      <td id=\"T_a52f2_row2_col5\" class=\"data row2 col5\" >0.067</td>\n",
       "    </tr>\n",
       "  </tbody>\n",
       "</table>\n"
      ],
      "text/plain": [
       "<pandas.io.formats.style.Styler at 0x1b387ff8790>"
      ]
     },
     "execution_count": 5,
     "metadata": {},
     "output_type": "execute_result"
    }
   ],
   "source": [
    "dfs_seed2[1]"
   ]
  },
  {
   "cell_type": "code",
   "execution_count": 103,
   "metadata": {},
   "outputs": [
    {
     "data": {
      "text/plain": [
       "0.509"
      ]
     },
     "execution_count": 103,
     "metadata": {},
     "output_type": "execute_result"
    }
   ],
   "source": [
    "calculate_weighted_average(0.467, 0.517, round_to=3)"
   ]
  },
  {
   "cell_type": "code",
   "execution_count": 7,
   "metadata": {},
   "outputs": [],
   "source": [
    "dict_all = []\n",
    "for dic_seed_1, dic_seed_2 in zip(dict_seed_1, dict_seed_2):\n",
    "    dic_reranker = {}\n",
    "    for k_1, k_2, v_1, v_2 in zip(dic_seed_1.keys(), dic_seed_2.keys(), dic_seed_1.values(), dic_seed_2.values()):\n",
    "        assert k_1 == k_2\n",
    "        dic_model_name = {}\n",
    "        dic_model_name[k_1] = [calculate_weighted_average(n_1, n_2) for n_1, n_2 in zip(v_1, v_2)]\n",
    "        dic_reranker.update(dic_model_name)\n",
    "    dict_all.append(dic_reranker)"
   ]
  },
  {
   "cell_type": "code",
   "execution_count": 8,
   "metadata": {},
   "outputs": [],
   "source": [
    "dfs_all = []\n",
    "for path, dic in zip(paths_seed_1, dict_all):\n",
    "    df = pd.DataFrame(dic, index=metrics).T\n",
    "    df = df.style.highlight_max(color=\"darkgreen\", axis=0).highlight_min(color=\"darkred\", axis=0)\n",
    "    df = df.set_caption(os.path.basename(path))\n",
    "    df = df.format(\"{:.3f}\")\n",
    "    dfs_all.append(df)"
   ]
  },
  {
   "cell_type": "code",
   "execution_count": 10,
   "metadata": {},
   "outputs": [
    {
     "data": {
      "text/html": [
       "<style type=\"text/css\">\n",
       "#T_e53ed_row0_col0, #T_e53ed_row0_col1, #T_e53ed_row0_col2, #T_e53ed_row0_col3, #T_e53ed_row0_col4, #T_e53ed_row0_col5 {\n",
       "  background-color: darkgreen;\n",
       "}\n",
       "#T_e53ed_row2_col0, #T_e53ed_row2_col1, #T_e53ed_row2_col2, #T_e53ed_row2_col3, #T_e53ed_row2_col4, #T_e53ed_row2_col5 {\n",
       "  background-color: darkred;\n",
       "}\n",
       "</style>\n",
       "<table id=\"T_e53ed\">\n",
       "  <caption>q_all_report_base_basic.json</caption>\n",
       "  <thead>\n",
       "    <tr>\n",
       "      <th class=\"blank level0\" >&nbsp;</th>\n",
       "      <th id=\"T_e53ed_level0_col0\" class=\"col_heading level0 col0\" >ndcg@3</th>\n",
       "      <th id=\"T_e53ed_level0_col1\" class=\"col_heading level0 col1\" >ndcg@5</th>\n",
       "      <th id=\"T_e53ed_level0_col2\" class=\"col_heading level0 col2\" >mrr@3</th>\n",
       "      <th id=\"T_e53ed_level0_col3\" class=\"col_heading level0 col3\" >mrr@5</th>\n",
       "      <th id=\"T_e53ed_level0_col4\" class=\"col_heading level0 col4\" >map@3</th>\n",
       "      <th id=\"T_e53ed_level0_col5\" class=\"col_heading level0 col5\" >map@5</th>\n",
       "    </tr>\n",
       "  </thead>\n",
       "  <tbody>\n",
       "    <tr>\n",
       "      <th id=\"T_e53ed_level0_row0\" class=\"row_heading level0 row0\" >base</th>\n",
       "      <td id=\"T_e53ed_row0_col0\" class=\"data row0 col0\" >0.661</td>\n",
       "      <td id=\"T_e53ed_row0_col1\" class=\"data row0 col1\" >0.676</td>\n",
       "      <td id=\"T_e53ed_row0_col2\" class=\"data row0 col2\" >0.783</td>\n",
       "      <td id=\"T_e53ed_row0_col3\" class=\"data row0 col3\" >0.783</td>\n",
       "      <td id=\"T_e53ed_row0_col4\" class=\"data row0 col4\" >0.564</td>\n",
       "      <td id=\"T_e53ed_row0_col5\" class=\"data row0 col5\" >0.607</td>\n",
       "    </tr>\n",
       "    <tr>\n",
       "      <th id=\"T_e53ed_level0_row1\" class=\"row_heading level0 row1\" >cohere</th>\n",
       "      <td id=\"T_e53ed_row1_col0\" class=\"data row1 col0\" >0.649</td>\n",
       "      <td id=\"T_e53ed_row1_col1\" class=\"data row1 col1\" >0.645</td>\n",
       "      <td id=\"T_e53ed_row1_col2\" class=\"data row1 col2\" >0.717</td>\n",
       "      <td id=\"T_e53ed_row1_col3\" class=\"data row1 col3\" >0.723</td>\n",
       "      <td id=\"T_e53ed_row1_col4\" class=\"data row1 col4\" >0.526</td>\n",
       "      <td id=\"T_e53ed_row1_col5\" class=\"data row1 col5\" >0.580</td>\n",
       "    </tr>\n",
       "    <tr>\n",
       "      <th id=\"T_e53ed_level0_row2\" class=\"row_heading level0 row2\" >flashrank</th>\n",
       "      <td id=\"T_e53ed_row2_col0\" class=\"data row2 col0\" >0.120</td>\n",
       "      <td id=\"T_e53ed_row2_col1\" class=\"data row2 col1\" >0.140</td>\n",
       "      <td id=\"T_e53ed_row2_col2\" class=\"data row2 col2\" >0.200</td>\n",
       "      <td id=\"T_e53ed_row2_col3\" class=\"data row2 col3\" >0.222</td>\n",
       "      <td id=\"T_e53ed_row2_col4\" class=\"data row2 col4\" >0.069</td>\n",
       "      <td id=\"T_e53ed_row2_col5\" class=\"data row2 col5\" >0.084</td>\n",
       "    </tr>\n",
       "  </tbody>\n",
       "</table>\n"
      ],
      "text/plain": [
       "<pandas.io.formats.style.Styler at 0x1b387856e90>"
      ]
     },
     "execution_count": 10,
     "metadata": {},
     "output_type": "execute_result"
    }
   ],
   "source": [
    "dfs_all[0]"
   ]
  },
  {
   "cell_type": "code",
   "execution_count": 11,
   "metadata": {},
   "outputs": [
    {
     "data": {
      "text/html": [
       "<style type=\"text/css\">\n",
       "#T_1a4f0_row0_col0, #T_1a4f0_row0_col1, #T_1a4f0_row0_col2, #T_1a4f0_row0_col3, #T_1a4f0_row0_col4, #T_1a4f0_row0_col5 {\n",
       "  background-color: darkgreen;\n",
       "}\n",
       "#T_1a4f0_row2_col0, #T_1a4f0_row2_col1, #T_1a4f0_row2_col2, #T_1a4f0_row2_col3, #T_1a4f0_row2_col4, #T_1a4f0_row2_col5 {\n",
       "  background-color: darkred;\n",
       "}\n",
       "</style>\n",
       "<table id=\"T_1a4f0\">\n",
       "  <caption>q_all_report_base_by_title.json</caption>\n",
       "  <thead>\n",
       "    <tr>\n",
       "      <th class=\"blank level0\" >&nbsp;</th>\n",
       "      <th id=\"T_1a4f0_level0_col0\" class=\"col_heading level0 col0\" >ndcg@3</th>\n",
       "      <th id=\"T_1a4f0_level0_col1\" class=\"col_heading level0 col1\" >ndcg@5</th>\n",
       "      <th id=\"T_1a4f0_level0_col2\" class=\"col_heading level0 col2\" >mrr@3</th>\n",
       "      <th id=\"T_1a4f0_level0_col3\" class=\"col_heading level0 col3\" >mrr@5</th>\n",
       "      <th id=\"T_1a4f0_level0_col4\" class=\"col_heading level0 col4\" >map@3</th>\n",
       "      <th id=\"T_1a4f0_level0_col5\" class=\"col_heading level0 col5\" >map@5</th>\n",
       "    </tr>\n",
       "  </thead>\n",
       "  <tbody>\n",
       "    <tr>\n",
       "      <th id=\"T_1a4f0_level0_row0\" class=\"row_heading level0 row0\" >base</th>\n",
       "      <td id=\"T_1a4f0_row0_col0\" class=\"data row0 col0\" >0.742</td>\n",
       "      <td id=\"T_1a4f0_row0_col1\" class=\"data row0 col1\" >0.757</td>\n",
       "      <td id=\"T_1a4f0_row0_col2\" class=\"data row0 col2\" >0.806</td>\n",
       "      <td id=\"T_1a4f0_row0_col3\" class=\"data row0 col3\" >0.812</td>\n",
       "      <td id=\"T_1a4f0_row0_col4\" class=\"data row0 col4\" >0.646</td>\n",
       "      <td id=\"T_1a4f0_row0_col5\" class=\"data row0 col5\" >0.689</td>\n",
       "    </tr>\n",
       "    <tr>\n",
       "      <th id=\"T_1a4f0_level0_row1\" class=\"row_heading level0 row1\" >cohere</th>\n",
       "      <td id=\"T_1a4f0_row1_col0\" class=\"data row1 col0\" >0.666</td>\n",
       "      <td id=\"T_1a4f0_row1_col1\" class=\"data row1 col1\" >0.737</td>\n",
       "      <td id=\"T_1a4f0_row1_col2\" class=\"data row1 col2\" >0.717</td>\n",
       "      <td id=\"T_1a4f0_row1_col3\" class=\"data row1 col3\" >0.740</td>\n",
       "      <td id=\"T_1a4f0_row1_col4\" class=\"data row1 col4\" >0.571</td>\n",
       "      <td id=\"T_1a4f0_row1_col5\" class=\"data row1 col5\" >0.654</td>\n",
       "    </tr>\n",
       "    <tr>\n",
       "      <th id=\"T_1a4f0_level0_row2\" class=\"row_heading level0 row2\" >flashrank</th>\n",
       "      <td id=\"T_1a4f0_row2_col0\" class=\"data row2 col0\" >0.109</td>\n",
       "      <td id=\"T_1a4f0_row2_col1\" class=\"data row2 col1\" >0.125</td>\n",
       "      <td id=\"T_1a4f0_row2_col2\" class=\"data row2 col2\" >0.156</td>\n",
       "      <td id=\"T_1a4f0_row2_col3\" class=\"data row2 col3\" >0.162</td>\n",
       "      <td id=\"T_1a4f0_row2_col4\" class=\"data row2 col4\" >0.074</td>\n",
       "      <td id=\"T_1a4f0_row2_col5\" class=\"data row2 col5\" >0.087</td>\n",
       "    </tr>\n",
       "  </tbody>\n",
       "</table>\n"
      ],
      "text/plain": [
       "<pandas.io.formats.style.Styler at 0x1b387ff9f10>"
      ]
     },
     "execution_count": 11,
     "metadata": {},
     "output_type": "execute_result"
    }
   ],
   "source": [
    "dfs_all[1]"
   ]
  },
  {
   "cell_type": "code",
   "execution_count": 12,
   "metadata": {},
   "outputs": [
    {
     "data": {
      "text/html": [
       "<style type=\"text/css\">\n",
       "#T_9808b_row0_col0, #T_9808b_row0_col2, #T_9808b_row0_col3, #T_9808b_row0_col4, #T_9808b_row1_col1, #T_9808b_row1_col5 {\n",
       "  background-color: darkgreen;\n",
       "}\n",
       "#T_9808b_row2_col0, #T_9808b_row2_col1, #T_9808b_row2_col2, #T_9808b_row2_col3, #T_9808b_row2_col4, #T_9808b_row2_col5 {\n",
       "  background-color: darkred;\n",
       "}\n",
       "</style>\n",
       "<table id=\"T_9808b\">\n",
       "  <caption>q_all_report_multiquery_basic.json</caption>\n",
       "  <thead>\n",
       "    <tr>\n",
       "      <th class=\"blank level0\" >&nbsp;</th>\n",
       "      <th id=\"T_9808b_level0_col0\" class=\"col_heading level0 col0\" >ndcg@3</th>\n",
       "      <th id=\"T_9808b_level0_col1\" class=\"col_heading level0 col1\" >ndcg@5</th>\n",
       "      <th id=\"T_9808b_level0_col2\" class=\"col_heading level0 col2\" >mrr@3</th>\n",
       "      <th id=\"T_9808b_level0_col3\" class=\"col_heading level0 col3\" >mrr@5</th>\n",
       "      <th id=\"T_9808b_level0_col4\" class=\"col_heading level0 col4\" >map@3</th>\n",
       "      <th id=\"T_9808b_level0_col5\" class=\"col_heading level0 col5\" >map@5</th>\n",
       "    </tr>\n",
       "  </thead>\n",
       "  <tbody>\n",
       "    <tr>\n",
       "      <th id=\"T_9808b_level0_row0\" class=\"row_heading level0 row0\" >base</th>\n",
       "      <td id=\"T_9808b_row0_col0\" class=\"data row0 col0\" >0.632</td>\n",
       "      <td id=\"T_9808b_row0_col1\" class=\"data row0 col1\" >0.616</td>\n",
       "      <td id=\"T_9808b_row0_col2\" class=\"data row0 col2\" >0.756</td>\n",
       "      <td id=\"T_9808b_row0_col3\" class=\"data row0 col3\" >0.756</td>\n",
       "      <td id=\"T_9808b_row0_col4\" class=\"data row0 col4\" >0.532</td>\n",
       "      <td id=\"T_9808b_row0_col5\" class=\"data row0 col5\" >0.554</td>\n",
       "    </tr>\n",
       "    <tr>\n",
       "      <th id=\"T_9808b_level0_row1\" class=\"row_heading level0 row1\" >cohere</th>\n",
       "      <td id=\"T_9808b_row1_col0\" class=\"data row1 col0\" >0.625</td>\n",
       "      <td id=\"T_9808b_row1_col1\" class=\"data row1 col1\" >0.657</td>\n",
       "      <td id=\"T_9808b_row1_col2\" class=\"data row1 col2\" >0.700</td>\n",
       "      <td id=\"T_9808b_row1_col3\" class=\"data row1 col3\" >0.723</td>\n",
       "      <td id=\"T_9808b_row1_col4\" class=\"data row1 col4\" >0.508</td>\n",
       "      <td id=\"T_9808b_row1_col5\" class=\"data row1 col5\" >0.585</td>\n",
       "    </tr>\n",
       "    <tr>\n",
       "      <th id=\"T_9808b_level0_row2\" class=\"row_heading level0 row2\" >flashrank</th>\n",
       "      <td id=\"T_9808b_row2_col0\" class=\"data row2 col0\" >0.031</td>\n",
       "      <td id=\"T_9808b_row2_col1\" class=\"data row2 col1\" >0.047</td>\n",
       "      <td id=\"T_9808b_row2_col2\" class=\"data row2 col2\" >0.050</td>\n",
       "      <td id=\"T_9808b_row2_col3\" class=\"data row2 col3\" >0.073</td>\n",
       "      <td id=\"T_9808b_row2_col4\" class=\"data row2 col4\" >0.014</td>\n",
       "      <td id=\"T_9808b_row2_col5\" class=\"data row2 col5\" >0.021</td>\n",
       "    </tr>\n",
       "  </tbody>\n",
       "</table>\n"
      ],
      "text/plain": [
       "<pandas.io.formats.style.Styler at 0x1b3895c0e50>"
      ]
     },
     "execution_count": 12,
     "metadata": {},
     "output_type": "execute_result"
    }
   ],
   "source": [
    "dfs_all[2]"
   ]
  },
  {
   "cell_type": "code",
   "execution_count": 13,
   "metadata": {},
   "outputs": [
    {
     "data": {
      "text/html": [
       "<style type=\"text/css\">\n",
       "#T_5973d_row0_col2, #T_5973d_row0_col3, #T_5973d_row0_col4, #T_5973d_row1_col0, #T_5973d_row1_col1, #T_5973d_row1_col5 {\n",
       "  background-color: darkgreen;\n",
       "}\n",
       "#T_5973d_row2_col0, #T_5973d_row2_col1, #T_5973d_row2_col2, #T_5973d_row2_col3, #T_5973d_row2_col4, #T_5973d_row2_col5 {\n",
       "  background-color: darkred;\n",
       "}\n",
       "</style>\n",
       "<table id=\"T_5973d\">\n",
       "  <caption>q_all_report_multiquery_by_title.json</caption>\n",
       "  <thead>\n",
       "    <tr>\n",
       "      <th class=\"blank level0\" >&nbsp;</th>\n",
       "      <th id=\"T_5973d_level0_col0\" class=\"col_heading level0 col0\" >ndcg@3</th>\n",
       "      <th id=\"T_5973d_level0_col1\" class=\"col_heading level0 col1\" >ndcg@5</th>\n",
       "      <th id=\"T_5973d_level0_col2\" class=\"col_heading level0 col2\" >mrr@3</th>\n",
       "      <th id=\"T_5973d_level0_col3\" class=\"col_heading level0 col3\" >mrr@5</th>\n",
       "      <th id=\"T_5973d_level0_col4\" class=\"col_heading level0 col4\" >map@3</th>\n",
       "      <th id=\"T_5973d_level0_col5\" class=\"col_heading level0 col5\" >map@5</th>\n",
       "    </tr>\n",
       "  </thead>\n",
       "  <tbody>\n",
       "    <tr>\n",
       "      <th id=\"T_5973d_level0_row0\" class=\"row_heading level0 row0\" >base</th>\n",
       "      <td id=\"T_5973d_row0_col0\" class=\"data row0 col0\" >0.659</td>\n",
       "      <td id=\"T_5973d_row0_col1\" class=\"data row0 col1\" >0.688</td>\n",
       "      <td id=\"T_5973d_row0_col2\" class=\"data row0 col2\" >0.739</td>\n",
       "      <td id=\"T_5973d_row0_col3\" class=\"data row0 col3\" >0.746</td>\n",
       "      <td id=\"T_5973d_row0_col4\" class=\"data row0 col4\" >0.583</td>\n",
       "      <td id=\"T_5973d_row0_col5\" class=\"data row0 col5\" >0.628</td>\n",
       "    </tr>\n",
       "    <tr>\n",
       "      <th id=\"T_5973d_level0_row1\" class=\"row_heading level0 row1\" >cohere</th>\n",
       "      <td id=\"T_5973d_row1_col0\" class=\"data row1 col0\" >0.674</td>\n",
       "      <td id=\"T_5973d_row1_col1\" class=\"data row1 col1\" >0.736</td>\n",
       "      <td id=\"T_5973d_row1_col2\" class=\"data row1 col2\" >0.728</td>\n",
       "      <td id=\"T_5973d_row1_col3\" class=\"data row1 col3\" >0.743</td>\n",
       "      <td id=\"T_5973d_row1_col4\" class=\"data row1 col4\" >0.578</td>\n",
       "      <td id=\"T_5973d_row1_col5\" class=\"data row1 col5\" >0.653</td>\n",
       "    </tr>\n",
       "    <tr>\n",
       "      <th id=\"T_5973d_level0_row2\" class=\"row_heading level0 row2\" >flashrank</th>\n",
       "      <td id=\"T_5973d_row2_col0\" class=\"data row2 col0\" >0.023</td>\n",
       "      <td id=\"T_5973d_row2_col1\" class=\"data row2 col1\" >0.046</td>\n",
       "      <td id=\"T_5973d_row2_col2\" class=\"data row2 col2\" >0.067</td>\n",
       "      <td id=\"T_5973d_row2_col3\" class=\"data row2 col3\" >0.092</td>\n",
       "      <td id=\"T_5973d_row2_col4\" class=\"data row2 col4\" >0.018</td>\n",
       "      <td id=\"T_5973d_row2_col5\" class=\"data row2 col5\" >0.030</td>\n",
       "    </tr>\n",
       "  </tbody>\n",
       "</table>\n"
      ],
      "text/plain": [
       "<pandas.io.formats.style.Styler at 0x1b3895a7c90>"
      ]
     },
     "execution_count": 13,
     "metadata": {},
     "output_type": "execute_result"
    }
   ],
   "source": [
    "dfs_all[3]"
   ]
  }
 ],
 "metadata": {
  "kernelspec": {
   "display_name": "Project-KdxDjv4v",
   "language": "python",
   "name": "python3"
  },
  "language_info": {
   "codemirror_mode": {
    "name": "ipython",
    "version": 3
   },
   "file_extension": ".py",
   "mimetype": "text/x-python",
   "name": "python",
   "nbconvert_exporter": "python",
   "pygments_lexer": "ipython3",
   "version": "3.11.1"
  }
 },
 "nbformat": 4,
 "nbformat_minor": 2
}
