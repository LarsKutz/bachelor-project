{
 "cells": [
  {
   "cell_type": "markdown",
   "metadata": {},
   "source": [
    "# Evaluation Reranking"
   ]
  },
  {
   "cell_type": "code",
   "execution_count": null,
   "metadata": {},
   "outputs": [],
   "source": [
    "import copy\n",
    "import json\n",
    "import os\n",
    "import sys\n",
    "from dotenv import load_dotenv, find_dotenv\n",
    "load_dotenv(find_dotenv())\n",
    "from ranx import Qrels, Run\n",
    "from utils import *\n",
    "from reranking import Reranker\n",
    "from retrieving import Retriever\n",
    "from evaluation_ranx import EvaluationRanx\n",
    "\n",
    "\n",
    "QUESTIONS_PATH = os.getenv(\"QUESTIONS_PATH\")"
   ]
  },
  {
   "cell_type": "markdown",
   "metadata": {},
   "source": [
    "## Loading Questions"
   ]
  },
  {
   "cell_type": "code",
   "execution_count": 2,
   "metadata": {},
   "outputs": [],
   "source": [
    "seed = 2\n",
    "questions = json.load(open(os.path.join(QUESTIONS_PATH, f\"questions_seed_{seed}.json\",), encoding=\"utf-8\"))"
   ]
  },
  {
   "cell_type": "code",
   "execution_count": null,
   "metadata": {},
   "outputs": [],
   "source": [
    "q_idx = 24\n",
    "question = questions[q_idx][\"question\"]\n",
    "source = questions[q_idx][\"source\"]\n",
    "source_edited = source.removeprefix(\"file:///\").replace(\"//\", \"\\\\\").replace(\"Source\", \"Data\")\n",
    "\n",
    "question, source, source_edited"
   ]
  },
  {
   "cell_type": "markdown",
   "metadata": {},
   "source": [
    "## Create Qrels"
   ]
  },
  {
   "cell_type": "markdown",
   "metadata": {},
   "source": [
    "### Initalization"
   ]
  },
  {
   "cell_type": "code",
   "execution_count": 246,
   "metadata": {},
   "outputs": [],
   "source": [
    "chunking_type = ChunkingType.TITLE\n",
    "n = 40\n",
    "\n",
    "reranking = Reranker(\n",
    "    n_retriever=n,\n",
    "    n_reranker=n,\n",
    "    chunking_type=chunking_type,\n",
    ")"
   ]
  },
  {
   "cell_type": "code",
   "execution_count": 247,
   "metadata": {},
   "outputs": [],
   "source": [
    "eval_ranx = EvaluationRanx(\n",
    "    metrics=[\"ndcg@3\", \"ndcg@5\", \"mrr@3\", \"mrr@5\", \"map@3\", \"map@5\"]\n",
    ")"
   ]
  },
  {
   "cell_type": "markdown",
   "metadata": {},
   "source": [
    "### Create Docs"
   ]
  },
  {
   "cell_type": "code",
   "execution_count": null,
   "metadata": {},
   "outputs": [],
   "source": [
    "# create retriever docs, create reranker docs for cohere\n",
    "retriever_type = RetrieverType.MULTIQUERY\n",
    "\n",
    "reranking.rerank(\n",
    "    query=question,\n",
    "    retriever_type=retriever_type,\n",
    "    reranker_type=RerankerType.COHERE,\n",
    "    index_docs=True,\n",
    "    add_desc_scores=True,\n",
    ")[:0]"
   ]
  },
  {
   "cell_type": "code",
   "execution_count": null,
   "metadata": {},
   "outputs": [],
   "source": [
    "# display first 5 retriever documents\n",
    "\n",
    "base_docs = reranking.documents\n",
    "base_docs_copy = copy.deepcopy(base_docs)\n",
    "base_docs[:5], len(base_docs)"
   ]
  },
  {
   "cell_type": "code",
   "execution_count": null,
   "metadata": {},
   "outputs": [],
   "source": [
    "# display first 5 cohere reranker documents\n",
    "\n",
    "cohere_docs = reranking.reranker_documents  \n",
    "cohere_docs[:5], len(cohere_docs)"
   ]
  },
  {
   "cell_type": "code",
   "execution_count": null,
   "metadata": {},
   "outputs": [],
   "source": [
    "# display first 5 flashrank reranker documents\n",
    "\n",
    "flashrank_docs = reranking.rerank_with_documents(\n",
    "    query=question,\n",
    "    documents=base_docs,\n",
    "    reranker_type=RerankerType.FLASHRANK,\n",
    ")\n",
    "flashrank_docs[:5], len(flashrank_docs)"
   ]
  },
  {
   "cell_type": "code",
   "execution_count": null,
   "metadata": {},
   "outputs": [],
   "source": [
    "# display relevant docs in base docs based on source\n",
    "\n",
    "relevant_docs = [doc for doc in base_docs_copy if doc.metadata[\"source\"] == source_edited]\n",
    "for doc in relevant_docs:\n",
    "    del doc.metadata[\"source\"]\n",
    "question, relevant_docs"
   ]
  },
  {
   "cell_type": "code",
   "execution_count": null,
   "metadata": {},
   "outputs": [],
   "source": [
    "source, q_idx+1"
   ]
  },
  {
   "cell_type": "markdown",
   "metadata": {},
   "source": [
    "### Qrels"
   ]
  },
  {
   "cell_type": "code",
   "execution_count": null,
   "metadata": {},
   "outputs": [],
   "source": [
    "# create and saving qrels\n",
    "# qrels_file_path = os.path.join(qrels_path, f\"q_{qrels_file_id}_qrels_base_{chunking_type.value}.json\")\n",
    "\n",
    "docs = [base_docs, cohere_docs, flashrank_docs]\n",
    "rel_ids = [0]\n",
    "rel_socres = [10]\n",
    "\n",
    "qrels = eval_ranx.create_qrels(\n",
    "    rel_ids=rel_ids,\n",
    "    rel_scores=rel_socres,\n",
    "    dict_key_name=f\"q_{q_idx+1}\",\n",
    "    save_path=f\"Data/json/qrels/seed_{seed}/{retriever_type.value}_{chunking_type.value}/q_{q_idx+1}_qrels_{retriever_type.value}_{chunking_type.value}.json\",\n",
    ")\n",
    "\n",
    "runs_list = eval_ranx.create_runs(\n",
    "    docs_list=docs,\n",
    "    run_names = [\"base\", \"cohere\", \"flashrank\"],\n",
    "    dict_key_name=f\"q_{q_idx+1}\"\n",
    ")\n",
    "\n",
    "eval_ranx.compare_query(\n",
    "    qrels=qrels,\n",
    "    runs=runs_list,\n",
    "    save_path=f\"Data/json/qrels/seed_{seed}/{retriever_type.value}_{chunking_type.value}/q_{q_idx+1}_report_{retriever_type.value}_{chunking_type.value}.json\"\n",
    ")"
   ]
  },
  {
   "cell_type": "markdown",
   "metadata": {},
   "source": [
    "Save page conent for each relevant id"
   ]
  },
  {
   "cell_type": "code",
   "execution_count": 480,
   "metadata": {},
   "outputs": [],
   "source": [
    "rel_ids_dic = {f\"q_{q_idx+1}\": {f\"d_{rel_id}\": [doc.page_content for doc in relevant_docs if doc.metadata[\"id\"] == rel_id][0] for rel_id in rel_ids}}\n",
    "save_path = f\"Data/json/qrels/seed_{seed}/{retriever_type.value}_{chunking_type.value}/q_{q_idx+1}_qrels_{retriever_type.value}_{chunking_type.value}_pagecontent.json\"\n",
    "eval_ranx.save_as_json(rel_ids_dic, save_path, \"asdsd\")"
   ]
  },
  {
   "cell_type": "markdown",
   "metadata": {},
   "source": [
    "## Compare All"
   ]
  },
  {
   "cell_type": "markdown",
   "metadata": {},
   "source": [
    "### Comparing with Base"
   ]
  },
  {
   "cell_type": "code",
   "execution_count": null,
   "metadata": {},
   "outputs": [],
   "source": [
    "qrels_path = \"D://Studium//Informatik//Module//Bachelorarbeit//Project//Pipeline//Utility//classes//Data//json//qrels//seed_2//base_basic\"\n",
    "save_paths = [\"D://Studium//Informatik//Module//Bachelorarbeit//Project//Pipeline//Utility//classes//Data//json//qrels//seed_2//base_basic//q_all_report_base_basic.json\"]\n",
    "\n",
    "reports = eval_ranx.compare_all_queries_base(\n",
    "    queries=questions,\n",
    "    qrels_path=qrels_path,\n",
    "    chunking_types=[chunking_type],\n",
    "    save_paths=save_paths,\n",
    ")\n",
    "\n",
    "reports"
   ]
  },
  {
   "cell_type": "code",
   "execution_count": null,
   "metadata": {},
   "outputs": [],
   "source": [
    "report_paths = [\"D://Studium//Informatik//Module//Bachelorarbeit//Project//Pipeline//Utility//classes//Data//json//qrels//seed_2//base_basic\",\n",
    "                \"D://Studium//Informatik//Module//Bachelorarbeit//Project//Pipeline//Utility//classes//Data//json//qrels//seed_2//base_by_title\"]\n",
    "\n",
    "save_paths = [\"D://Studium//Informatik//Module//Bachelorarbeit//Project//Pipeline//Utility//classes//Data//json//qrels//seed_2//base_basic//q_all_report_base_basic.json\",\n",
    "              \"D://Studium//Informatik//Module//Bachelorarbeit//Project//Pipeline//Utility//classes//Data//json//qrels//seed_2//base_by_title//q_all_report_base_by_title.json\"]\n",
    "\n",
    "\n",
    "reports = eval_ranx.compute_average_with_reports(\n",
    "    report_paths=report_paths,\n",
    "    save_paths=save_paths\n",
    ")\n",
    "reports"
   ]
  },
  {
   "cell_type": "markdown",
   "metadata": {},
   "source": [
    "### Comparing with Multiquery"
   ]
  },
  {
   "cell_type": "code",
   "execution_count": null,
   "metadata": {},
   "outputs": [],
   "source": [
    "report_paths = [\"D://Studium//Informatik//Module//Bachelorarbeit//Project//Pipeline//Utility//classes//Data//json//qrels//seed_2//multiquery_basic\",\n",
    "                \"D://Studium//Informatik//Module//Bachelorarbeit//Project//Pipeline//Utility//classes//Data//json//qrels//seed_2//multiquery_by_title\"]\n",
    "\n",
    "save_paths = [\"D://Studium//Informatik//Module//Bachelorarbeit//Project//Pipeline//Utility//classes//Data//json//qrels//seed_2//multiquery_basic//q_all_report_multiquery_basic.json\",\n",
    "              \"D://Studium//Informatik//Module//Bachelorarbeit//Project//Pipeline//Utility//classes//Data//json//qrels//seed_2//multiquery_by_title//q_all_report_multiquery_by_title.json\"]\n",
    "\n",
    "\n",
    "reports = eval_ranx.compute_average_with_reports(\n",
    "    report_paths=report_paths,\n",
    "    save_paths=save_paths\n",
    ")\n",
    "reports"
   ]
  },
  {
   "cell_type": "code",
   "execution_count": null,
   "metadata": {},
   "outputs": [],
   "source": []
  }
 ],
 "metadata": {
  "kernelspec": {
   "display_name": "Project-KdxDjv4v",
   "language": "python",
   "name": "python3"
  },
  "language_info": {
   "codemirror_mode": {
    "name": "ipython",
    "version": 3
   },
   "file_extension": ".py",
   "mimetype": "text/x-python",
   "name": "python",
   "nbconvert_exporter": "python",
   "pygments_lexer": "ipython3",
   "version": "3.11.1"
  }
 },
 "nbformat": 4,
 "nbformat_minor": 2
}
