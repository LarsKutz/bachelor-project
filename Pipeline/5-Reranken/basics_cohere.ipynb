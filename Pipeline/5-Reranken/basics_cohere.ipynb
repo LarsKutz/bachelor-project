{
 "cells": [
  {
   "cell_type": "markdown",
   "metadata": {},
   "source": [
    "# Cohere Rerank"
   ]
  },
  {
   "cell_type": "markdown",
   "metadata": {},
   "source": [
    "[Cohere Webpage](https://cohere.ai/)"
   ]
  },
  {
   "cell_type": "code",
   "execution_count": 191,
   "metadata": {},
   "outputs": [],
   "source": [
    "import os\n",
    "import chromadb\n",
    "import cohere\n",
    "from dotenv import load_dotenv, find_dotenv\n",
    "from langchain_chroma import Chroma\n",
    "from langchain.retrievers.contextual_compression import ContextualCompressionRetriever\n",
    "from langchain_openai import OpenAIEmbeddings\n",
    "from langchain_cohere import CohereRerank\n",
    "\n",
    "load_dotenv(find_dotenv())\n",
    "\n",
    "OPENAI_API_KEY = os.getenv('OPENAI_API_KEY')\n",
    "COHERE_API_KEY = os.getenv('COHERE_API_KEY')\n",
    "DATABASE_PATH = os.getenv('DATABASE_PATH')"
   ]
  },
  {
   "cell_type": "code",
   "execution_count": 192,
   "metadata": {},
   "outputs": [],
   "source": [
    "EMBEDDING_MODEL = 'text-embedding-ada-002'\n",
    "COHERE_RERANK_MODEL = 'rerank-multilingual-v3.0'\n",
    "\n",
    "database_path_basic = os.path.join(DATABASE_PATH, 'Unstructured', 'basic', f\"{EMBEDDING_MODEL}\")\n",
    "database_path_title = os.path.join(DATABASE_PATH, 'Unstructured', 'by_title', f\"{EMBEDDING_MODEL}\")"
   ]
  },
  {
   "cell_type": "code",
   "execution_count": 193,
   "metadata": {},
   "outputs": [],
   "source": [
    "QUERY = \"Wie kann man eine Auskunftspflicht in einer Haushaltsgemeinschaft durchsetzen?\""
   ]
  },
  {
   "cell_type": "code",
   "execution_count": 194,
   "metadata": {},
   "outputs": [],
   "source": [
    "def pretty_output_text(text: str, words_per_line: int = 10) -> str:\n",
    "    text_parts = text.split('\\n')\n",
    "    pretty_text = ''\n",
    "    \n",
    "    for text_part in text_parts:\n",
    "        words = text_part.split(' ')\n",
    "        for i, word in enumerate(words):\n",
    "            pretty_text += word + ' '\n",
    "            if (i + 1) % words_per_line == 0 and i != len(words) - 1:\n",
    "                pretty_text += '\\n'\n",
    "        pretty_text += '\\n'\n",
    "    \n",
    "    return pretty_text\n",
    "\n",
    "\n",
    "def pretty_output_docs(docs: list, show_metadata=True, show_full_path=True) -> str:\n",
    "    print(f\"QUERY: {QUERY}\")\n",
    "    print('*' * 150, end='\\n\\n')\n",
    "    for i, doc in enumerate(docs):\n",
    "        print(f\"CHUNK #{i+1}:\")\n",
    "        if show_metadata:\n",
    "            source_path = doc.metadata['source'] if show_full_path else os.path.basename(doc.metadata['source'])\n",
    "            print(f\"Source:\\t\\t\\t{source_path}\")\n",
    "            print(f\"Page Number:\\t\\t{doc.metadata['page_number']}\")\n",
    "            print(f\"Relevance Score:\\t{doc.metadata['relevance_score']}\")\n",
    "        \n",
    "        print('-' * 150)\n",
    "        print(pretty_output_text(doc.page_content, 12))\n",
    "        print('=' * 150)\n",
    "\n",
    "\n",
    "def pretty_output_rerankresponse(rerankresponses: list, show_additional_info=True) -> str:\n",
    "    print(f\"QUERY: {QUERY}\")\n",
    "    print('*' * 150, end='\\n\\n')\n",
    "    for i, reponse in enumerate(rerankresponses):\n",
    "        print(f\"CHUNK #{i+1}:\")\n",
    "        if show_additional_info:\n",
    "            print(f\"Index:\\t\\t\\t{reponse.index}\")\n",
    "            print(f\"Relevance Score:\\t{reponse.relevance_score}\")\n",
    "        \n",
    "        print('-' * 150)\n",
    "        print(pretty_output_text(reponse.document.text, 12))\n",
    "        print('=' * 150)"
   ]
  },
  {
   "cell_type": "markdown",
   "metadata": {},
   "source": [
    "## Create Retriever"
   ]
  },
  {
   "cell_type": "code",
   "execution_count": 195,
   "metadata": {},
   "outputs": [],
   "source": [
    "chroma_client_basic = chromadb.PersistentClient(\n",
    "    path=database_path_basic,\n",
    ")\n",
    "collection_name_basic = 'collection_1500'\n",
    "\n",
    "chroma_client_title = chromadb.PersistentClient(\n",
    "    path=database_path_title,\n",
    ")\n",
    "collection_name_title = 'collection_1800'"
   ]
  },
  {
   "cell_type": "code",
   "execution_count": 196,
   "metadata": {},
   "outputs": [],
   "source": [
    "vectorstore_basic = Chroma(\n",
    "    collection_name=collection_name_basic,\n",
    "    client=chroma_client_basic,\n",
    "    embedding_function=OpenAIEmbeddings(model=EMBEDDING_MODEL, api_key=OPENAI_API_KEY),\n",
    "    create_collection_if_not_exists=False,\n",
    ")\n",
    "\n",
    "vectorstore_title = Chroma(\n",
    "    collection_name=collection_name_title,\n",
    "    client=chroma_client_title,\n",
    "    embedding_function=OpenAIEmbeddings(model=EMBEDDING_MODEL, api_key=OPENAI_API_KEY),\n",
    "    create_collection_if_not_exists=False,\n",
    ")"
   ]
  },
  {
   "cell_type": "markdown",
   "metadata": {},
   "source": [
    "### Default Retriever"
   ]
  },
  {
   "cell_type": "code",
   "execution_count": 189,
   "metadata": {},
   "outputs": [],
   "source": [
    "n_retrieved_docs = 20"
   ]
  },
  {
   "cell_type": "code",
   "execution_count": 190,
   "metadata": {},
   "outputs": [],
   "source": [
    "default_retriever_basic = vectorstore_basic.as_retriever(\n",
    "    search_kwargs={\n",
    "        'k': n_retrieved_docs,\n",
    "    }\n",
    ")\n",
    "\n",
    "default_retriever_title = vectorstore_title.as_retriever(\n",
    "    search_kwargs={\n",
    "        'k': n_retrieved_docs,\n",
    "    }\n",
    ")"
   ]
  },
  {
   "cell_type": "markdown",
   "metadata": {},
   "source": [
    "## Using LangChain Integration"
   ]
  },
  {
   "cell_type": "code",
   "execution_count": 197,
   "metadata": {},
   "outputs": [],
   "source": [
    "compressor = CohereRerank(\n",
    "    top_n=3,\n",
    "    model=COHERE_RERANK_MODEL,\n",
    "    cohere_api_key=COHERE_API_KEY,\n",
    ")"
   ]
  },
  {
   "cell_type": "code",
   "execution_count": 198,
   "metadata": {},
   "outputs": [],
   "source": [
    "compressor_retriever_basic = ContextualCompressionRetriever(\n",
    "    base_compressor=compressor,\n",
    "    base_retriever=default_retriever_basic,\n",
    ")\n",
    "\n",
    "compressor_retriever_title = ContextualCompressionRetriever(\n",
    "    base_compressor=compressor,\n",
    "    base_retriever=default_retriever_title,\n",
    ")"
   ]
  },
  {
   "cell_type": "code",
   "execution_count": 199,
   "metadata": {},
   "outputs": [],
   "source": [
    "compressed_docs_basic = compressor_retriever_basic.invoke(QUERY)\n",
    "compressed_docs_title = compressor_retriever_title.invoke(QUERY)"
   ]
  },
  {
   "cell_type": "code",
   "execution_count": 204,
   "metadata": {},
   "outputs": [],
   "source": [
    "# compressed_docs_basic"
   ]
  },
  {
   "cell_type": "code",
   "execution_count": 205,
   "metadata": {},
   "outputs": [],
   "source": [
    "# pretty_output_docs(compressed_docs_basic, show_full_path=False)"
   ]
  },
  {
   "cell_type": "code",
   "execution_count": 152,
   "metadata": {},
   "outputs": [],
   "source": [
    "# compressed_docs_title"
   ]
  },
  {
   "cell_type": "code",
   "execution_count": 206,
   "metadata": {},
   "outputs": [],
   "source": [
    "# pretty_output_docs(compressed_docs_title, show_full_path=False)"
   ]
  },
  {
   "cell_type": "markdown",
   "metadata": {},
   "source": [
    "## Using Cohere API"
   ]
  },
  {
   "cell_type": "markdown",
   "metadata": {},
   "source": [
    "Result got an additional paramter called `index`, that represents the index of the document in the retriever list.  \n",
    "Example:\n",
    "- if we have in the retriever a list of 20 documents, and we reranke the documents and return the top 5, the index of the 5 documents can be 0 - 19.\n",
    "- If a document in the reranked list has an index of 5, it means that the document was the 6th document in the original retriever list.\n",
    "\n",
    "This is nice to see how the documents were reranked."
   ]
  },
  {
   "cell_type": "code",
   "execution_count": 155,
   "metadata": {},
   "outputs": [],
   "source": [
    "cohere = cohere.Client(\n",
    "    api_key=COHERE_API_KEY,\n",
    ")"
   ]
  },
  {
   "cell_type": "code",
   "execution_count": 158,
   "metadata": {},
   "outputs": [],
   "source": [
    "docs_basic = default_retriever_basic.invoke(QUERY)\n",
    "docs_title = default_retriever_title.invoke(QUERY)"
   ]
  },
  {
   "cell_type": "code",
   "execution_count": 161,
   "metadata": {},
   "outputs": [],
   "source": [
    "# extract only text, cause the cohere.rerank method can not process langchain.Document objects\n",
    "\n",
    "list_text_docs_basic = [doc.page_content for doc in docs_basic]\n",
    "list_text_docs_title = [doc.page_content for doc in docs_title]"
   ]
  },
  {
   "cell_type": "code",
   "execution_count": 172,
   "metadata": {},
   "outputs": [],
   "source": [
    "compressed_docs_basic = cohere.rerank(\n",
    "    model=COHERE_RERANK_MODEL,\n",
    "    query=QUERY,\n",
    "    top_n=3,\n",
    "    return_documents=True,\n",
    "    documents=list_text_docs_basic,\n",
    ").results\n",
    "\n",
    "compressed_docs_title = cohere.rerank(\n",
    "    model=COHERE_RERANK_MODEL,\n",
    "    query=QUERY,\n",
    "    top_n=3,\n",
    "    return_documents=True,\n",
    "    documents=list_text_docs_title,\n",
    ").results"
   ]
  },
  {
   "cell_type": "code",
   "execution_count": 184,
   "metadata": {},
   "outputs": [],
   "source": [
    "# compressed_docs_basic"
   ]
  },
  {
   "cell_type": "code",
   "execution_count": 185,
   "metadata": {},
   "outputs": [],
   "source": [
    "# pretty_output_rerankresponse(compressed_docs_basic)"
   ]
  },
  {
   "cell_type": "code",
   "execution_count": 186,
   "metadata": {},
   "outputs": [],
   "source": [
    "# compressed_docs_title"
   ]
  },
  {
   "cell_type": "code",
   "execution_count": 188,
   "metadata": {},
   "outputs": [],
   "source": [
    "# pretty_output_rerankresponse(compressed_docs_title)"
   ]
  }
 ],
 "metadata": {
  "kernelspec": {
   "display_name": "Project-KdxDjv4v",
   "language": "python",
   "name": "python3"
  },
  "language_info": {
   "codemirror_mode": {
    "name": "ipython",
    "version": 3
   },
   "file_extension": ".py",
   "mimetype": "text/x-python",
   "name": "python",
   "nbconvert_exporter": "python",
   "pygments_lexer": "ipython3",
   "version": "3.11.1"
  }
 },
 "nbformat": 4,
 "nbformat_minor": 2
}
