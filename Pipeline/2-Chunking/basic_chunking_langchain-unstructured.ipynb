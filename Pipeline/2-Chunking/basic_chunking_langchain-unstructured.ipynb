{
 "cells": [
  {
   "cell_type": "markdown",
   "metadata": {},
   "source": [
    "# Chunking Files with LangChain and Unstructured"
   ]
  },
  {
   "cell_type": "code",
   "execution_count": 78,
   "metadata": {},
   "outputs": [],
   "source": [
    "import os\n",
    "import pathlib\n",
    "from pathlib import Path\n",
    "from dotenv import load_dotenv, find_dotenv\n",
    "from langchain_unstructured import UnstructuredLoader\n",
    "from langchain_community.document_loaders import UnstructuredWordDocumentLoader, UnstructuredPDFLoader\n",
    "\n",
    "\n",
    "load_dotenv(find_dotenv())\n",
    "\n",
    "DATA_PATH = os.getenv(\"DATA_PATH\")\n",
    "POPPLER_PATH = os.getenv(\"POPPLER_PATH\")\n",
    "TESSERACT_PATH = os.getenv(\"TESSERACT_PATH\")\n",
    "\n",
    "def get_full_path(name: str) -> pathlib.WindowsPath:\n",
    "    \"\"\" Create a path object for a file in the data directory\n",
    "\n",
    "    Args:\n",
    "        name (str): File name or directory name to search for\n",
    "\n",
    "    Returns:\n",
    "        pathlib.WindowsPath: The first Path object for the file or directory\n",
    "    \"\"\"\n",
    "    return next(Path(DATA_PATH).rglob(name))\n",
    "\n",
    "\n",
    "def pretty_output(chunks, mode: str):\n",
    "    if mode == \"elements\":\n",
    "        for i, chunk in enumerate(chunks, 1):\n",
    "            print(f\"Chunk {i}:\")\n",
    "            print(chunk.text)\n",
    "            print(\"-\" * 120)\n",
    "            \n",
    "    elif mode == \"documents\":\n",
    "        for i, chunk in enumerate(chunks, 1):\n",
    "            print(f\"Chunk {i}:\")\n",
    "            print(chunk.page_content)\n",
    "            print(\"-\" * 120)"
   ]
  },
  {
   "cell_type": "code",
   "execution_count": 79,
   "metadata": {},
   "outputs": [],
   "source": [
    "file_name = [\n",
    "    \"ark_040_-_foerderung_der_berufsausbildung.pdf\",\n",
    "    \"ark_021_-_geschaeftsordnung_des_beirats.pdf\"\n",
    "]\n",
    "paths = [get_full_path(name) for name in file_name]\n",
    "path = paths[-1]"
   ]
  },
  {
   "cell_type": "markdown",
   "metadata": {},
   "source": [
    "### An Overview for possible parameters"
   ]
  },
  {
   "cell_type": "markdown",
   "metadata": {},
   "source": [
    "**Parameters `partition_pdf`:**  \n",
    "- `filename: Optional[str] = None,`\n",
    "- `file: Optional[IO[bytes]] = None,`\n",
    "- `include_page_breaks: bool = False,`\n",
    "- `strategy: str = PartitionStrategy.AUTO,`\n",
    "- `infer_table_structure: bool = False,`\n",
    "- `ocr_languages: Optional[str] = None,  # changing to optional for deprecation`\n",
    "- `languages: Optional[list[str]] = None,`\n",
    "- `include_metadata: bool = True,  # used by decorator`\n",
    "- `metadata_filename: Optional[str] = None,  # used by decorator`\n",
    "- `metadata_last_modified: Optional[str] = None,`\n",
    "- `chunking_strategy: Optional[str] = None,  # used by decorator`\n",
    "- `hi_res_model_name: Optional[str] = None,`\n",
    "- `extract_images_in_pdf: bool = False,`\n",
    "- `extract_image_block_types: Optional[list[str]] = None,`\n",
    "- `extract_image_block_output_dir: Optional[str] = None,`\n",
    "- `extract_image_block_to_payload: bool = False,`\n",
    "- `date_from_file_object: bool = False,`\n",
    "- `starting_page_number: int = 1,`\n",
    "- `extract_forms: bool = False,`\n",
    "- `form_extraction_skip_tables: bool = True,`\n",
    "\n",
    "\n",
    "**Parameters `chunk_by_title`:**\n",
    "- `elements: Iterable[Element],`\n",
    "- `*,`\n",
    "- `combine_text_under_n_chars: Optional[int] = None,`\n",
    "- `include_orig_elements: Optional[bool] = None,`\n",
    "- `max_characters: Optional[int] = None,`\n",
    "- `multipage_sections: Optional[bool] = None,`\n",
    "- `new_after_n_chars: Optional[int] = None,`\n",
    "- `overlap: Optional[int] = None,`\n",
    "- `overlap_all: Optional[bool] = None,`"
   ]
  },
  {
   "cell_type": "markdown",
   "metadata": {},
   "source": [
    "## All-in-one Loader "
   ]
  },
  {
   "cell_type": "code",
   "execution_count": null,
   "metadata": {},
   "outputs": [],
   "source": [
    "# Chunker 1\n",
    "max_characters = 1500\n",
    "\n",
    "chunks_1 = UnstructuredLoader(\n",
    "    file_path=path,\n",
    "    languages=[\"deu\"],\n",
    "    strategy=\"hi_res\",\n",
    "    chunking_strategy=\"by_title\",\n",
    "    max_characters=max_characters,\n",
    ").load()\n",
    "\n",
    "len(chunks_1)"
   ]
  },
  {
   "cell_type": "code",
   "execution_count": 81,
   "metadata": {},
   "outputs": [],
   "source": [
    "# pretty_output(chunks_1, \"documents\")"
   ]
  },
  {
   "cell_type": "code",
   "execution_count": null,
   "metadata": {},
   "outputs": [],
   "source": [
    "# Chunker 2\n",
    "max_characters = 5000\n",
    "new_after_n_chars = 1500\n",
    "combine_text_under_n_chars_multiplier=int(new_after_n_chars*(2/3))\n",
    "\n",
    "chunks_2 = UnstructuredLoader(\n",
    "    file_path=path,\n",
    "    languages=[\"deu\"],\n",
    "    strategy=\"hi_res\",\n",
    "    chunking_strategy=\"by_title\",\n",
    "    max_characters=max_characters,\n",
    "    combine_text_under_n_chars=combine_text_under_n_chars_multiplier,\n",
    "    new_after_n_chars=new_after_n_chars,\n",
    ").load()\n",
    "\n",
    "len(chunks_2)"
   ]
  },
  {
   "cell_type": "code",
   "execution_count": 83,
   "metadata": {},
   "outputs": [],
   "source": [
    "# pretty_output(chunks_2, \"documents\")"
   ]
  },
  {
   "cell_type": "markdown",
   "metadata": {},
   "source": [
    "## PDF Chunking"
   ]
  },
  {
   "cell_type": "code",
   "execution_count": null,
   "metadata": {},
   "outputs": [],
   "source": [
    "# Chunker 1\n",
    "max_characters = 1500\n",
    "\n",
    "chunks_1 = UnstructuredPDFLoader(\n",
    "    file_path=path,\n",
    "    mode=\"elements\",\n",
    "    languages=[\"deu\"],\n",
    "    strategy=\"hi_res\",\n",
    "    chunking_strategy=\"by_title\",\n",
    "    max_characters=max_characters,\n",
    ").load()\n",
    "\n",
    "len(chunks_1)"
   ]
  },
  {
   "cell_type": "code",
   "execution_count": 85,
   "metadata": {},
   "outputs": [],
   "source": [
    "# pretty_output(chunks_1, \"documents\")"
   ]
  },
  {
   "cell_type": "code",
   "execution_count": null,
   "metadata": {},
   "outputs": [],
   "source": [
    "# Chunker 2\n",
    "max_characters = 5000\n",
    "new_after_n_chars = 1500\n",
    "combine_text_under_n_chars_multiplier=int(new_after_n_chars*(2/3))\n",
    "\n",
    "chunks_2 = UnstructuredPDFLoader(\n",
    "    file_path=path,\n",
    "    mode=\"elements\",\n",
    "    languages=[\"deu\"],\n",
    "    strategy=\"hi_res\",\n",
    "    chunking_strategy=\"by_title\",\n",
    "    max_characters=max_characters,\n",
    "    combine_text_under_n_chars=combine_text_under_n_chars_multiplier,\n",
    "    new_after_n_chars=new_after_n_chars,\n",
    ").load()\n",
    "\n",
    "len(chunks_2)"
   ]
  },
  {
   "cell_type": "code",
   "execution_count": 87,
   "metadata": {},
   "outputs": [],
   "source": [
    "# pretty_output(chunks_2, \"documents\")"
   ]
  },
  {
   "cell_type": "markdown",
   "metadata": {},
   "source": [
    "## Word Document Chunking"
   ]
  },
  {
   "cell_type": "code",
   "execution_count": 88,
   "metadata": {},
   "outputs": [],
   "source": [
    "file_name = \"aktive_leistungen_bei_darlehensweiser_passiver_leistungsgewaehrung.docx\"\n",
    "path = str(get_full_path(file_name))"
   ]
  },
  {
   "cell_type": "code",
   "execution_count": 89,
   "metadata": {},
   "outputs": [
    {
     "data": {
      "text/plain": [
       "2"
      ]
     },
     "execution_count": 89,
     "metadata": {},
     "output_type": "execute_result"
    }
   ],
   "source": [
    "# Chunker 1\n",
    "max_characters = 1500\n",
    "\n",
    "chunks_1 = UnstructuredWordDocumentLoader(\n",
    "    file_path=path,\n",
    "    mode=\"elements\",\n",
    "    languages=[\"deu\"],\n",
    "    strategy=\"hi_res\",\n",
    "    chunking_strategy=\"by_title\",\n",
    "    max_characters=max_characters,\n",
    ").load()\n",
    "\n",
    "len(chunks_1)"
   ]
  },
  {
   "cell_type": "code",
   "execution_count": 90,
   "metadata": {},
   "outputs": [],
   "source": [
    "# pretty_output(chunks_1, \"documents\")"
   ]
  },
  {
   "cell_type": "code",
   "execution_count": 91,
   "metadata": {},
   "outputs": [
    {
     "data": {
      "text/plain": [
       "2"
      ]
     },
     "execution_count": 91,
     "metadata": {},
     "output_type": "execute_result"
    }
   ],
   "source": [
    "# Chunker 2\n",
    "max_characters = 5000\n",
    "new_after_n_chars = 1500\n",
    "combine_text_under_n_chars_multiplier=int(new_after_n_chars*(2/3))\n",
    "\n",
    "chunks_2 = UnstructuredWordDocumentLoader(\n",
    "    file_path=path,\n",
    "    mode=\"elements\",\n",
    "    languages=[\"deu\"],\n",
    "    strategy=\"hi_res\",\n",
    "    chunking_strategy=\"by_title\",\n",
    "    max_characters=max_characters,\n",
    "    combine_text_under_n_chars=combine_text_under_n_chars_multiplier,\n",
    "    new_after_n_chars=new_after_n_chars,\n",
    ").load()\n",
    "\n",
    "len(chunks_2)"
   ]
  },
  {
   "cell_type": "code",
   "execution_count": 92,
   "metadata": {},
   "outputs": [],
   "source": [
    "# pretty_output(chunks_2, \"documents\")"
   ]
  },
  {
   "cell_type": "code",
   "execution_count": 93,
   "metadata": {},
   "outputs": [
    {
     "data": {
      "text/plain": [
       "2"
      ]
     },
     "execution_count": 93,
     "metadata": {},
     "output_type": "execute_result"
    }
   ],
   "source": [
    "chunks_3 = UnstructuredLoader(\n",
    "    file_path=path,\n",
    "    languages=[\"deu\"],\n",
    "    strategy=\"hi_res\",\n",
    "    chunking_strategy=\"by_title\",\n",
    "    max_characters=max_characters,\n",
    "    combine_text_under_n_chars=combine_text_under_n_chars_multiplier,\n",
    "    new_after_n_chars=new_after_n_chars,\n",
    ").load()\n",
    "\n",
    "len(chunks_3)"
   ]
  },
  {
   "cell_type": "code",
   "execution_count": 95,
   "metadata": {},
   "outputs": [],
   "source": [
    "# pretty_output(chunks_3, \"documents\")"
   ]
  }
 ],
 "metadata": {
  "kernelspec": {
   "display_name": "Testing-itYXVzSe",
   "language": "python",
   "name": "python3"
  },
  "language_info": {
   "codemirror_mode": {
    "name": "ipython",
    "version": 3
   },
   "file_extension": ".py",
   "mimetype": "text/x-python",
   "name": "python",
   "nbconvert_exporter": "python",
   "pygments_lexer": "ipython3",
   "version": "3.11.1"
  }
 },
 "nbformat": 4,
 "nbformat_minor": 2
}
