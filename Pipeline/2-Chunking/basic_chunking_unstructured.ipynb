{
 "cells": [
  {
   "cell_type": "markdown",
   "metadata": {},
   "source": [
    "# Chunking Files with Unstructured"
   ]
  },
  {
   "cell_type": "code",
   "execution_count": 4,
   "metadata": {},
   "outputs": [],
   "source": [
    "import os\n",
    "import pathlib\n",
    "from pathlib import Path\n",
    "from dotenv import load_dotenv, find_dotenv\n",
    "from unstructured.partition.pdf import partition_pdf\n",
    "from unstructured.chunking.title import chunk_by_title\n",
    "from unstructured.chunking.basic import chunk_elements\n",
    "from unstructured.documents.elements import Header, Footer, Image\n",
    "\n",
    "\n",
    "load_dotenv(find_dotenv())\n",
    "\n",
    "DATA_PATH = os.getenv(\"DATA_PATH\")\n",
    "POPPLER_PATH = os.getenv(\"POPPLER_PATH\")\n",
    "TESSERACT_PATH = os.getenv(\"TESSERACT_PATH\")\n",
    "REMOVABLE_ELEMENTS=(Image)\n",
    "\n",
    "\n",
    "def get_path(name: str) -> pathlib.WindowsPath:\n",
    "    \"\"\" Create a path object for a file in the data directory\n",
    "\n",
    "    Args:\n",
    "        name (str): File name or directory name to search for\n",
    "\n",
    "    Returns:\n",
    "        pathlib.WindowsPath: Path object for the file or directory\n",
    "    \"\"\"\n",
    "    return next(Path(DATA_PATH).rglob(name))\n",
    "\n",
    "\n",
    "def pretty_output(chunks, mode: str):\n",
    "    if mode == \"elements\":\n",
    "        for i, chunk in enumerate(chunks, 1):\n",
    "            print(f\"Chunk {i}:\")\n",
    "            print(chunk.text)\n",
    "            print(\"-\" * 120)\n",
    "            \n",
    "    elif mode == \"documents\":\n",
    "        for i, chunk in enumerate(chunks, 1):\n",
    "            print(f\"Chunk {i}:\")\n",
    "            print(chunk.page_content)\n",
    "            print(\"-\" * 120)"
   ]
  },
  {
   "cell_type": "code",
   "execution_count": 2,
   "metadata": {},
   "outputs": [],
   "source": [
    "file_name = [\n",
    "    \"ark_040_-_foerderung_der_berufsausbildung.pdf\",\n",
    "    \"ark_021_-_geschaeftsordnung_des_beirats.pdf\"\n",
    "]\n",
    "path = get_path(file_name[-1])"
   ]
  },
  {
   "cell_type": "code",
   "execution_count": 5,
   "metadata": {},
   "outputs": [],
   "source": [
    "ele = partition_pdf(\n",
    "    filename=path,\n",
    "    languages=[\"deu\"],\n",
    "    strategy=\"hi_res\",\n",
    ")\n",
    "\n",
    "# Delete elements that are not required like Header, Footer, Image\n",
    "# So we have a reduced list of elements with the informationen that are useful\n",
    "red_ele = [file_element for file_element in ele if not isinstance(file_element, REMOVABLE_ELEMENTS)]"
   ]
  },
  {
   "cell_type": "markdown",
   "metadata": {},
   "source": [
    "## Chunk `basic`"
   ]
  },
  {
   "cell_type": "code",
   "execution_count": 18,
   "metadata": {},
   "outputs": [
    {
     "data": {
      "text/plain": [
       "4"
      ]
     },
     "execution_count": 18,
     "metadata": {},
     "output_type": "execute_result"
    }
   ],
   "source": [
    "# Chunker 1\n",
    "max_characters = 1500\n",
    "\n",
    "chunks_1 = chunk_elements(\n",
    "    red_ele,\n",
    "    max_characters=max_characters,\n",
    ")\n",
    "\n",
    "len(chunks_1)"
   ]
  },
  {
   "cell_type": "code",
   "execution_count": 1,
   "metadata": {},
   "outputs": [],
   "source": [
    "# pretty_output(chunks_1, \"elements\")"
   ]
  },
  {
   "cell_type": "code",
   "execution_count": 43,
   "metadata": {},
   "outputs": [
    {
     "data": {
      "text/plain": [
       "4"
      ]
     },
     "execution_count": 43,
     "metadata": {},
     "output_type": "execute_result"
    }
   ],
   "source": [
    "# Chunker 2\n",
    "max_characters = 5000\n",
    "new_after_n_chars = 1500\n",
    "\n",
    "chunks_2 = chunk_elements(\n",
    "    red_ele,\n",
    "    max_characters=max_characters,\n",
    "    new_after_n_chars=new_after_n_chars,\n",
    "    overlap=int(new_after_n_chars*(1/5)),\n",
    "    overlap_all=True,\n",
    ")\n",
    "\n",
    "len(chunks_2)"
   ]
  },
  {
   "cell_type": "code",
   "execution_count": null,
   "metadata": {},
   "outputs": [],
   "source": [
    "# pretty_output(chunks_2, \"elements\")"
   ]
  },
  {
   "cell_type": "markdown",
   "metadata": {},
   "source": [
    "## Chunk `by_title`"
   ]
  },
  {
   "cell_type": "code",
   "execution_count": 7,
   "metadata": {},
   "outputs": [
    {
     "data": {
      "text/plain": [
       "4"
      ]
     },
     "execution_count": 7,
     "metadata": {},
     "output_type": "execute_result"
    }
   ],
   "source": [
    "# Chunker 1\n",
    "max_characters = 1500\n",
    "\n",
    "chunks_1 = chunk_by_title(\n",
    "    elements=ele,\n",
    "    max_characters=max_characters,\n",
    ")\n",
    "\n",
    "len(chunks_1)"
   ]
  },
  {
   "cell_type": "code",
   "execution_count": 19,
   "metadata": {},
   "outputs": [],
   "source": [
    "# pretty_output(chunks_1, mode=\"elements\")"
   ]
  },
  {
   "cell_type": "code",
   "execution_count": 16,
   "metadata": {},
   "outputs": [
    {
     "data": {
      "text/plain": [
       "3"
      ]
     },
     "execution_count": 16,
     "metadata": {},
     "output_type": "execute_result"
    }
   ],
   "source": [
    "# Chunker 2\n",
    "max_characters = 5000\n",
    "new_after_n_chars = 1500\n",
    "combine_text_under_n_chars_multiplier=int(new_after_n_chars*(2/3))\n",
    "\n",
    "chunks_2 = chunk_by_title(\n",
    "    elements=ele,\n",
    "    max_characters=max_characters,\n",
    "    combine_text_under_n_chars=combine_text_under_n_chars_multiplier,\n",
    "    new_after_n_chars=new_after_n_chars,\n",
    ")\n",
    "\n",
    "len(chunks_2)"
   ]
  },
  {
   "cell_type": "code",
   "execution_count": 18,
   "metadata": {},
   "outputs": [],
   "source": [
    "# pretty_output(chunks_2, mode=\"elements\")"
   ]
  }
 ],
 "metadata": {
  "kernelspec": {
   "display_name": "Project-KdxDjv4v",
   "language": "python",
   "name": "python3"
  },
  "language_info": {
   "codemirror_mode": {
    "name": "ipython",
    "version": 3
   },
   "file_extension": ".py",
   "mimetype": "text/x-python",
   "name": "python",
   "nbconvert_exporter": "python",
   "pygments_lexer": "ipython3",
   "version": "3.11.1"
  }
 },
 "nbformat": 4,
 "nbformat_minor": 2
}
